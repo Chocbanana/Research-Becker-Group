{
 "cells": [
  {
   "cell_type": "markdown",
   "id": "385d3018-01da-4df6-b87c-c8e4d5d8a687",
   "metadata": {},
   "source": [
    "# Transforming Video Into NN Dataset\n",
    "\n",
    "\n",
    "## Get video\n",
    "run:\n",
    "\n",
    "```bash\n",
    "youtube-dl https://www.youtube.com/watch?v=B3anOpQuWb8\n",
    "youtube-dl https://www.youtube.com/watch?v=bpHqaj5C_W0\n",
    "youtube-dl https://www.youtube.com/watch?v=Peg1yaB2bsk\n",
    "```\n",
    "\n",
    "Then rename videos, and make subfolders for the images\n",
    "\n",
    "## Turn video into series of images"
   ]
  },
  {
   "cell_type": "code",
   "execution_count": 2,
   "id": "2b3b1c87-b7f5-4b55-9ea3-6eb36555ea9b",
   "metadata": {
    "tags": []
   },
   "outputs": [],
   "source": [
    "import cv2\n",
    "from matplotlib import pyplot as plt\n",
    "import numpy as np"
   ]
  },
  {
   "cell_type": "code",
   "execution_count": 12,
   "id": "9c7f5f96-a4f7-4386-9914-e0e2b4cd433e",
   "metadata": {
    "tags": []
   },
   "outputs": [],
   "source": [
    "# img_size = (640, 360)\n",
    "img_size = (96, 54)\n",
    "\n",
    "def vid_to_imgs(vid_name: str, img_folder: str, img_name: str):\n",
    "    video = cv2.VideoCapture(f\"../data/{vid_name}\")\n",
    "\n",
    "    i = 0\n",
    "    hasframe, frame = video.read()\n",
    "\n",
    "    while (hasframe):\n",
    "        cv2.imwrite(f\"../data/{img_folder}/{img_name}_{i}.jpg\", cv2.resize(frame, img_size, interpolation= cv2.INTER_LINEAR))\n",
    "        hasframe, frame = video.read()\n",
    "        i += 1\n",
    "        \n",
    "    print(f\"Made {i} images\")"
   ]
  },
  {
   "cell_type": "code",
   "execution_count": 13,
   "id": "1d099dff-388a-4b37-b8e3-442be9e3f472",
   "metadata": {
    "tags": []
   },
   "outputs": [
    {
     "name": "stdout",
     "output_type": "stream",
     "text": [
      "Made 2185 images\n",
      "Made 2176 images\n",
      "Made 2380 images\n"
     ]
    }
   ],
   "source": [
    "vid_to_imgs(\"test_video1.webm\", \"test_imgs0\", \"imageA\")\n",
    "vid_to_imgs(\"test_video2.mp4\", \"test_imgs1\", \"imageB\")\n",
    "vid_to_imgs(\"test_video3.webm\", \"test_imgs2\", \"imageC\")"
   ]
  },
  {
   "cell_type": "code",
   "execution_count": 7,
   "id": "f7e95252-2091-4c09-b24d-812e2cf41029",
   "metadata": {
    "tags": []
   },
   "outputs": [
    {
     "data": {
      "text/plain": [
       "96.0"
      ]
     },
     "execution_count": 7,
     "metadata": {},
     "output_type": "execute_result"
    }
   ],
   "source": [
    "ratio = 16 / 9\n",
    "54 * ratio"
   ]
  },
  {
   "cell_type": "code",
   "execution_count": 33,
   "id": "5a63a3e8-1e23-427a-968f-258aa81f0b08",
   "metadata": {
    "tags": []
   },
   "outputs": [
    {
     "data": {
      "text/plain": [
       "array([[[225, 221, 224],\n",
       "        [225, 221, 224],\n",
       "        [225, 221, 224],\n",
       "        ...,\n",
       "        [236, 236, 236],\n",
       "        [236, 236, 236],\n",
       "        [235, 235, 235]],\n",
       "\n",
       "       [[225, 221, 224],\n",
       "        [225, 221, 224],\n",
       "        [225, 221, 224],\n",
       "        ...,\n",
       "        [235, 235, 235],\n",
       "        [235, 235, 235],\n",
       "        [235, 235, 235]],\n",
       "\n",
       "       [[225, 221, 224],\n",
       "        [225, 221, 224],\n",
       "        [225, 221, 224],\n",
       "        ...,\n",
       "        [235, 235, 235],\n",
       "        [235, 235, 235],\n",
       "        [235, 235, 235]],\n",
       "\n",
       "       ...,\n",
       "\n",
       "       [[221, 221, 221],\n",
       "        [221, 221, 221],\n",
       "        [221, 221, 221],\n",
       "        ...,\n",
       "        [204, 207, 212],\n",
       "        [202, 205, 210],\n",
       "        [201, 204, 209]],\n",
       "\n",
       "       [[221, 221, 221],\n",
       "        [221, 221, 221],\n",
       "        [221, 221, 221],\n",
       "        ...,\n",
       "        [204, 207, 212],\n",
       "        [202, 205, 210],\n",
       "        [201, 204, 209]],\n",
       "\n",
       "       [[221, 221, 221],\n",
       "        [221, 221, 221],\n",
       "        [221, 221, 221],\n",
       "        ...,\n",
       "        [204, 207, 212],\n",
       "        [203, 206, 211],\n",
       "        [202, 205, 210]]], dtype=uint8)"
      ]
     },
     "execution_count": 33,
     "metadata": {},
     "output_type": "execute_result"
    }
   ],
   "source": [
    "img_size = (640, 360)\n",
    "cv2.resize(frame, img_size, interpolation= cv2.INTER_LINEAR)"
   ]
  },
  {
   "cell_type": "code",
   "execution_count": 30,
   "id": "4367f2fd-1a91-4eb7-b5ff-5fa139fad1fd",
   "metadata": {
    "tags": []
   },
   "outputs": [],
   "source": [
    "video = cv2.VideoCapture(f\"../data/test_video2.mp4\")\n",
    "\n",
    "# i = 0\n",
    "hasframe, frame = video.read()\n",
    "\n",
    "# # while (hasframe):\n",
    "# cv2.imwrite(f\"../data/test_imgs2/imageB_0.jpg\", cv2.resize(frame, img_size, interpolation= cv2.INTER_LINEAR))\n",
    "\n",
    "# print(f\"Made {i} images\")"
   ]
  },
  {
   "cell_type": "code",
   "execution_count": null,
   "id": "75fa1c40-0e75-4b37-9e1f-c09909cae6ee",
   "metadata": {},
   "outputs": [],
   "source": []
  }
 ],
 "metadata": {
  "kernelspec": {
   "display_name": "Python 3 (ipykernel)",
   "language": "python",
   "name": "python3"
  },
  "language_info": {
   "codemirror_mode": {
    "name": "ipython",
    "version": 3
   },
   "file_extension": ".py",
   "mimetype": "text/x-python",
   "name": "python",
   "nbconvert_exporter": "python",
   "pygments_lexer": "ipython3",
   "version": "3.10.0"
  }
 },
 "nbformat": 4,
 "nbformat_minor": 5
}
