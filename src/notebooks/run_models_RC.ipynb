{
 "cells": [
  {
   "cell_type": "markdown",
   "id": "675d1711-8d44-435d-b82c-604d3f89b9e9",
   "metadata": {
    "editable": true,
    "slideshow": {
     "slide_type": ""
    },
    "tags": []
   },
   "source": [
    "# Run Models on RC"
   ]
  },
  {
   "cell_type": "markdown",
   "id": "329af7c4-01e4-493c-b8bc-6fc61ba56c7e",
   "metadata": {
    "editable": true,
    "slideshow": {
     "slide_type": ""
    },
    "tags": []
   },
   "source": [
    "## RC Setup\n",
    "\n",
    "[Docs for RC](https://curc.readthedocs.io/en/latest/index.html)\n",
    "\n",
    "* Make a script for running Slurm job (see `../rc_scripts/plasma_nns_1.sh`)\n",
    "    * See [job scripting](https://curc.readthedocs.io/en/latest/running-jobs/batch-jobs.html) and [the alpine partitions](https://curc.readthedocs.io/en/latest/clusters/alpine/alpine-hardware.html)\n",
    "* Make relevant data and output dirs in `/projects/${USER}/` and `/scratch/{alpine,blanca}/${USER}/`\n",
    "\n",
    "Getting python (anaconda ugh) to work:\n",
    "\n",
    "* Folow [these Conda instructions](https://curc.readthedocs.io/en/latest/software/python.html)\n",
    "* Install all packages from the reqiurements.txt, with special for pytorch/numpy/etc:\n",
    "    * `conda install pytorch torchvision torchaudio pytorch-cuda=12.1 -c pytorch -c nvidia`\n",
    "    * `conda install -c conda-forge papermill`\n",
    "* Export the made conda evironment for future use:\n",
    "    * `conda env export --from-history --no-builds --name nnenv > conda_env.yml`\n",
    "* Make sure RC slurm job script has conda relevant lines:\n",
    "    * `module load anaconda`\n",
    "    * `conda activate nnenv`\n",
    "\n",
    "OLD Instructions for python (didn't work):\n",
    "\n",
    "* ~~Have python install to different directory other than home (not enough space)~~\n",
    "    * ~~update `~/.config/pip/pip.conf` with `target`~~\n",
    "* ~~Add to `.bash_profile`:~~\n",
    "    * ```bash\n",
    "        # Add custom python lib to path\n",
    "        PATH=/projects/bhjo6995/python_lib/bin:$PATH\n",
    "      ```\n",
    "\n",
    "\n",
    "### Running and monitoring job\n",
    "\n",
    "* `sbatch JOBNAME.sh`\n",
    "* `squeue --user=bhjo6995 --long --start`\n",
    "\n",
    "\n",
    "### Debugging job script\n",
    "\n",
    "* `sinteractive --partition=amc --time=00:40:00 --ntasks=1 --gres=gpu:1 --constraint=gpu`\n",
    "* Or [this link]() is faster somehow (and with GUI)"
   ]
  },
  {
   "cell_type": "markdown",
   "id": "6bdde970-c7a3-4fcf-853c-fc567b66fcb5",
   "metadata": {
    "editable": true,
    "slideshow": {
     "slide_type": ""
    },
    "tags": []
   },
   "source": [
    "## Notebook Setup"
   ]
  },
  {
   "cell_type": "code",
   "execution_count": 11,
   "id": "632eb95f-72f6-4b11-84cd-33e48e92968d",
   "metadata": {
    "editable": true,
    "execution": {
     "iopub.execute_input": "2023-12-27T03:16:31.410540Z",
     "iopub.status.busy": "2023-12-27T03:16:31.406208Z",
     "iopub.status.idle": "2023-12-27T03:16:32.150580Z",
     "shell.execute_reply": "2023-12-27T03:16:32.149518Z",
     "shell.execute_reply.started": "2023-12-27T03:16:31.409416Z"
    },
    "slideshow": {
     "slide_type": ""
    },
    "tags": []
   },
   "outputs": [],
   "source": [
    "# Required packages\n",
    "#!pip install \"../requirements.txt\""
   ]
  },
  {
   "cell_type": "code",
   "execution_count": 2,
   "id": "0fb475e0-2bfc-4d6a-aa9d-20dbb7eb0712",
   "metadata": {
    "editable": true,
    "execution": {
     "iopub.execute_input": "2023-12-20T03:32:51.675185Z",
     "iopub.status.busy": "2023-12-20T03:32:51.674893Z",
     "iopub.status.idle": "2023-12-20T03:32:51.710832Z",
     "shell.execute_reply": "2023-12-20T03:32:51.710127Z",
     "shell.execute_reply.started": "2023-12-20T03:32:51.675167Z"
    },
    "slideshow": {
     "slide_type": ""
    },
    "tags": []
   },
   "outputs": [],
   "source": [
    "# In order to force reload any changes done to the models package files\n",
    "%load_ext autoreload\n",
    "%autoreload 2"
   ]
  },
  {
   "cell_type": "code",
   "execution_count": 3,
   "id": "71ee3260-ccd2-4aa0-8283-13160a839398",
   "metadata": {
    "editable": true,
    "execution": {
     "iopub.execute_input": "2023-12-20T03:32:51.712122Z",
     "iopub.status.busy": "2023-12-20T03:32:51.711751Z",
     "iopub.status.idle": "2023-12-20T03:32:51.728704Z",
     "shell.execute_reply": "2023-12-20T03:32:51.728062Z",
     "shell.execute_reply.started": "2023-12-20T03:32:51.712096Z"
    },
    "slideshow": {
     "slide_type": ""
    },
    "tags": []
   },
   "outputs": [],
   "source": [
    "## Allow import from our custom lib python files\n",
    "import sys\n",
    "import os\n",
    "\n",
    "module_path = os.path.abspath(os.path.join('..'))\n",
    "if module_path not in sys.path:\n",
    "    sys.path.append(os.path.join(module_path, \"lib\"))"
   ]
  },
  {
   "cell_type": "code",
   "execution_count": 4,
   "id": "28295ed2-731a-4b1c-9573-9f19df5f96e9",
   "metadata": {
    "editable": true,
    "execution": {
     "iopub.execute_input": "2023-12-20T03:32:51.729984Z",
     "iopub.status.busy": "2023-12-20T03:32:51.729708Z",
     "iopub.status.idle": "2023-12-20T03:32:54.583531Z",
     "shell.execute_reply": "2023-12-20T03:32:54.582889Z",
     "shell.execute_reply.started": "2023-12-20T03:32:51.729965Z"
    },
    "slideshow": {
     "slide_type": ""
    },
    "tags": []
   },
   "outputs": [],
   "source": [
    "from models.simpleFork import Simple, Fork\n",
    "from models.danmf import DANMF\n",
    "from models.convmf import ConvMF\n",
    "from datasets.gen_plasma_1d import GenPlasma1DDataset\n",
    "from framework.saveload import load_checkpoint, load_trained_model\n",
    "from framework.params import * # device, use_cuda, Checkpoint, various saving strs\n",
    "from framework.train import train_model\n",
    "\n",
    "from timeit import default_timer\n",
    "import re\n",
    "from datetime import datetime\n",
    "import json\n",
    "\n",
    "import torch\n",
    "import onnx\n",
    "import pandas as pd\n",
    "import numpy as np\n",
    "import matplotlib.pyplot as plt\n",
    "from scipy.linalg import svd, diagsvd\n",
    "from torch import nn\n",
    "from torch.utils.data import DataLoader, random_split\n",
    "# PyTorch TensorBoard support\n",
    "from torch.utils.tensorboard import SummaryWriter\n",
    "from torch import profiler"
   ]
  },
  {
   "cell_type": "markdown",
   "id": "4c5cde01-0aeb-41f8-8ae3-9bf8c09959e0",
   "metadata": {
    "editable": true,
    "slideshow": {
     "slide_type": ""
    },
    "tags": []
   },
   "source": [
    "### Per-run user defined variables"
   ]
  },
  {
   "cell_type": "code",
   "execution_count": 5,
   "id": "1961e23a-445b-4ba6-ada1-3366473f66c2",
   "metadata": {
    "editable": true,
    "execution": {
     "iopub.execute_input": "2023-12-20T03:32:54.584950Z",
     "iopub.status.busy": "2023-12-20T03:32:54.584438Z",
     "iopub.status.idle": "2023-12-20T03:32:54.625818Z",
     "shell.execute_reply": "2023-12-20T03:32:54.625195Z",
     "shell.execute_reply.started": "2023-12-20T03:32:54.584928Z"
    },
    "slideshow": {
     "slide_type": ""
    },
    "tags": [
     "parameters"
    ]
   },
   "outputs": [
    {
     "name": "stdout",
     "output_type": "stream",
     "text": [
      "Using cpu device\n"
     ]
    }
   ],
   "source": [
    "# Define the machine being used\n",
    "machine = \"RC\"\n",
    "\n",
    "# Paths for files\n",
    "data_dir = os.path.normpath(\"/scratch/alpine/bhjo6995/data/\")\n",
    "output_dir = os.path.normpath(\"/projects/bhjo6995/output\")\n",
    "tensorboard_dir = os.path.join(output_dir, \"tensorboard\")\n",
    "\n",
    "# Dataset params\n",
    "batch_size = 25\n",
    "mat_size = [64, 128]\n",
    "mat_dirs = [os.path.join(data_dir, \"gen_plasma_n64\", f\"mat_{i}\") for i in range(3)]\n",
    "\n",
    "# Device comes from framework.params\n",
    "print(f\"Using {device} device\")"
   ]
  },
  {
   "cell_type": "markdown",
   "id": "ddcf874b-645d-4c00-83cb-3295843464c8",
   "metadata": {},
   "source": [
    "## Data \n",
    "\n",
    "Data generated from the matlab code `gen_data_matlab/SSPML_CWENO_ht1d.m`\n",
    "\n",
    "#### Normalization\n",
    "* No normalization (too expensive?)"
   ]
  },
  {
   "cell_type": "markdown",
   "id": "6d82384c-93c9-4e52-9158-c1ac31218743",
   "metadata": {},
   "source": [
    "### Dataset"
   ]
  },
  {
   "cell_type": "code",
   "execution_count": 6,
   "id": "61ec189b-9ed7-4809-8cec-c7cc75b6b3a8",
   "metadata": {
    "execution": {
     "iopub.execute_input": "2023-12-20T03:32:54.627164Z",
     "iopub.status.busy": "2023-12-20T03:32:54.626915Z",
     "iopub.status.idle": "2023-12-20T03:32:55.156345Z",
     "shell.execute_reply": "2023-12-20T03:32:55.155659Z",
     "shell.execute_reply.started": "2023-12-20T03:32:54.627145Z"
    }
   },
   "outputs": [],
   "source": [
    "# Load and split the data, and prep for being fed into the NN\n",
    "data = GenPlasma1DDataset(mat_dirs)\n",
    "# Divide data into train, validation, test\n",
    "train_data, validation_data, test_data = random_split(data, [0.7, 0.2, 0.1], generator=torch.Generator().manual_seed(42))\n",
    "\n",
    "train_dataloader = DataLoader(train_data, batch_size=batch_size, shuffle=True, pin_memory=(torch.cuda.is_available()), drop_last=True)\n",
    "validation_dataloader = DataLoader(validation_data, batch_size=batch_size, shuffle=True, pin_memory=(torch.cuda.is_available()), drop_last=True)\n",
    "test_dataloader = DataLoader(test_data, batch_size=1, shuffle=True)"
   ]
  },
  {
   "cell_type": "code",
   "execution_count": 7,
   "id": "ab1d863b-d541-4b73-aa75-ce19a38c8b05",
   "metadata": {
    "execution": {
     "iopub.execute_input": "2023-12-20T03:32:55.160478Z",
     "iopub.status.busy": "2023-12-20T03:32:55.160155Z",
     "iopub.status.idle": "2023-12-20T03:32:55.409189Z",
     "shell.execute_reply": "2023-12-20T03:32:55.408487Z",
     "shell.execute_reply.started": "2023-12-20T03:32:55.160455Z"
    }
   },
   "outputs": [
    {
     "name": "stdout",
     "output_type": "stream",
     "text": [
      "21975 <class 'torch.Tensor'> torch.Size([64, 128])\n",
      "tensor([[ 1.5490e-09,  1.2974e-08, -1.2685e-09,  ..., -3.1265e-08,\n",
      "          2.4354e-08, -4.3778e-09],\n",
      "        [ 8.8028e-09,  6.6438e-09,  1.6978e-08,  ..., -1.7247e-08,\n",
      "          1.6309e-08,  3.0742e-10],\n",
      "        [ 1.4042e-08,  5.9671e-09,  2.7655e-08,  ...,  1.7584e-08,\n",
      "         -6.1634e-10,  7.9415e-09],\n",
      "        ...,\n",
      "        [ 2.9151e-10,  1.6614e-08, -1.7626e-08,  ...,  1.8026e-08,\n",
      "          6.2687e-09,  8.9249e-09],\n",
      "        [-4.8291e-09,  2.5087e-08, -3.2353e-08,  ..., -1.9762e-09,\n",
      "          1.3646e-08,  1.1134e-09],\n",
      "        [-4.2047e-09,  2.1915e-08, -2.2832e-08,  ..., -2.3230e-08,\n",
      "          2.2154e-08, -4.1802e-09]])\n"
     ]
    },
    {
     "data": {
      "image/png": "[encoded data removed]",
      "text/plain": [
       "<Figure size 640x480 with 1 Axes>"
      ]
     },
     "metadata": {},
     "output_type": "display_data"
    }
   ],
   "source": [
    "plt.imshow(data[2669])\n",
    "print(len(data), type(data[0]), data[244].shape)\n",
    "print(data[2000])"
   ]
  },
  {
   "attachments": {},
   "cell_type": "markdown",
   "id": "e8fd5925-3dde-43fb-bb48-cb34a28179f3",
   "metadata": {
    "jp-MarkdownHeadingCollapsed": true
   },
   "source": [
    "## Hyperparameters\n",
    "\n",
    "### Loss Function\n",
    "We use methods defined in [[1]](#r1) to define our loss function <!-- $\\mathcal{L}$ \\\\ -->\n",
    "\n",
    "$$\n",
    "\\min_{\\substack{U \\in \\real^{m\\times r} \\\\ V \\in \\real^{r\\times n}}} ||X - ReLU(UV)||^2_F ,\n",
    "$$\n",
    "Where we are finding the square Frobenius norm of the difference between the original matrix $X$ and the rectified linear low rank representation matrices $UV$\n",
    "\n",
    "### Optimizer\n",
    "\n",
    "Adam works fine / is standard\n",
    "\n"
   ]
  },
  {
   "cell_type": "markdown",
   "id": "7e88ef72-8831-4488-9a7a-4211d0c43296",
   "metadata": {},
   "source": [
    "## Model Definition"
   ]
  },
  {
   "cell_type": "markdown",
   "id": "e67ec560-b304-444a-9aa8-8a3daf1b1123",
   "metadata": {},
   "source": [
    "### Multiple models hyperparams"
   ]
  },
  {
   "cell_type": "code",
   "execution_count": 8,
   "id": "23d77c70-0bf9-4d0a-a6d2-6f7191cb1192",
   "metadata": {
    "editable": true,
    "execution": {
     "iopub.execute_input": "2023-12-20T03:32:55.410444Z",
     "iopub.status.busy": "2023-12-20T03:32:55.410092Z",
     "iopub.status.idle": "2023-12-20T03:32:55.451509Z",
     "shell.execute_reply": "2023-12-20T03:32:55.450770Z",
     "shell.execute_reply.started": "2023-12-20T03:32:55.410423Z"
    },
    "slideshow": {
     "slide_type": ""
    },
    "tags": [
     "parameters"
    ]
   },
   "outputs": [],
   "source": [
    "## Params\n",
    "ranks = [6, 12]\n",
    "\n",
    "stem_layer_dims = [500, 200]\n",
    "\n",
    "fork_layer_dims = [200, 300]\n",
    "\n",
    "conv_dims = [[5, 1, 3, 1], [3, 1, 0, 1]]\n",
    "\n",
    "run_params = dict(\n",
    "                epochs=120,\n",
    "                checkpoint_at=40,\n",
    "                batch_pr=40,\n",
    "                batch_size=batch_size,\n",
    "                runname=\"plasma_mf_test_1\"\n",
    "                )\n",
    "\n",
    "\n",
    "# Save details\n",
    "run_details = {\"run_params\": run_params}\n",
    "runname = run_details[\"run_params\"][\"runname\"]\n",
    "output_run_dir = os.path.join(output_dir, f\"run_{runname}\")"
   ]
  },
  {
   "cell_type": "markdown",
   "id": "d8ade524-8890-4669-88a1-d83596ed1608",
   "metadata": {
    "editable": true,
    "slideshow": {
     "slide_type": ""
    },
    "tags": []
   },
   "source": [
    "### Models Creation"
   ]
  },
  {
   "cell_type": "code",
   "execution_count": 9,
   "id": "e8b62bf7-6b71-436d-99e7-65e019a1583f",
   "metadata": {
    "editable": true,
    "execution": {
     "iopub.execute_input": "2023-12-20T03:32:55.453253Z",
     "iopub.status.busy": "2023-12-20T03:32:55.452847Z",
     "iopub.status.idle": "2023-12-20T03:32:55.636941Z",
     "shell.execute_reply": "2023-12-20T03:32:55.636121Z",
     "shell.execute_reply.started": "2023-12-20T03:32:55.453228Z"
    },
    "slideshow": {
     "slide_type": ""
    },
    "tags": []
   },
   "outputs": [
    {
     "name": "stdout",
     "output_type": "stream",
     "text": [
      "Fork_img64_sdim2-3ebc_fdim2-37e7 \trank = 6 \t sl=[500, 200] \t fl=[200, 300] \tcl=0\n",
      "ConvMF_img64_cdim2-c00f \trank = 6 \t sl=[500, 200] \t fl=[200, 300] \tcl=[[5, 1, 3, 1], [3, 1, 0, 1]]\n",
      "Fork_r12_img64_sdim2-3ebc_fdim2-37e7 \trank = 12 \t sl=[500, 200] \t fl=[200, 300] \tcl=0\n",
      "ConvMF_r12_img64_cdim2-c00f \trank = 12 \t sl=[500, 200] \t fl=[200, 300] \tcl=[[5, 1, 3, 1], [3, 1, 0, 1]]\n"
     ]
    }
   ],
   "source": [
    "models = []\n",
    "\n",
    "for r in ranks:\n",
    "    m = Fork(r, mat_size, stem_layer_dims, fork_layer_dims).to(device)\n",
    "    print(f\"{m.get_name()} \\trank = {r} \\t sl={stem_layer_dims} \\t fl={fork_layer_dims} \\tcl={0}\")\n",
    "    models.append(m)\n",
    "    run_details[m.get_name()] = m.get_hyperparameters()\n",
    "\n",
    "    m = ConvMF(r, mat_size, stem_layer_dims, fork_layer_dims, conv_dims).to(device)\n",
    "    print(f\"{m.get_name()} \\trank = {r} \\t sl={stem_layer_dims} \\t fl={fork_layer_dims} \\tcl={conv_dims}\")\n",
    "    models.append(m)\n",
    "    run_details[m.get_name()] = m.get_hyperparameters()"
   ]
  },
  {
   "cell_type": "markdown",
   "id": "47453944-254c-480c-8f73-e7653132b7cc",
   "metadata": {
    "editable": true,
    "slideshow": {
     "slide_type": ""
    },
    "tags": []
   },
   "source": [
    "## Run models"
   ]
  },
  {
   "cell_type": "code",
   "execution_count": 10,
   "id": "c89cf0db-c20b-40ec-9f82-a4aeb8a8981d",
   "metadata": {
    "editable": true,
    "execution": {
     "iopub.execute_input": "2023-12-20T03:32:55.638708Z",
     "iopub.status.busy": "2023-12-20T03:32:55.638355Z",
     "iopub.status.idle": "2023-12-20T03:37:01.863894Z",
     "shell.execute_reply": "2023-12-20T03:37:01.862171Z",
     "shell.execute_reply.started": "2023-12-20T03:32:55.638683Z"
    },
    "slideshow": {
     "slide_type": ""
    },
    "tags": []
   },
   "outputs": [
    {
     "name": "stdout",
     "output_type": "stream",
     "text": [
      "Training Fork_img64_sdim2-3ebc_fdim2-37e7\n",
      "No checkpoint found to load. Using base model\n",
      "[0, 40] loss: 93.418079662323, validation loss: 38.882954243251255, average train time (sec): 0.0005429508000815986\n",
      "[0, 80] loss: 28.4040198802948, validation loss: 23.559112309047155, average train time (sec): 0.0005888145751669072\n",
      "[0, 120] loss: 22.070831394195558, validation loss: 21.99375135694231, average train time (sec): 0.0005872962246940006\n",
      "[0, 160] loss: 21.072725009918212, validation loss: 20.754080151149203, average train time (sec): 0.0007511270749091636\n"
     ]
    },
    {
     "ename": "KeyboardInterrupt",
     "evalue": "",
     "output_type": "error",
     "traceback": [
      "\u001b[0;31m---------------------------------------------------------------------------\u001b[0m",
      "\u001b[0;31mKeyboardInterrupt\u001b[0m                         Traceback (most recent call last)",
      "Cell \u001b[0;32mIn[10], line 12\u001b[0m\n\u001b[1;32m     10\u001b[0m writer \u001b[38;5;241m=\u001b[39m SummaryWriter(os\u001b[38;5;241m.\u001b[39mpath\u001b[38;5;241m.\u001b[39mjoin(tensorboard_dir, \u001b[38;5;124mf\u001b[39m\u001b[38;5;124m'\u001b[39m\u001b[38;5;132;01m{\u001b[39;00mmachine\u001b[38;5;132;01m}\u001b[39;00m\u001b[38;5;124m_\u001b[39m\u001b[38;5;132;01m{\u001b[39;00mmodel\u001b[38;5;241m.\u001b[39mget_name()\u001b[38;5;132;01m}\u001b[39;00m\u001b[38;5;124m_\u001b[39m\u001b[38;5;132;01m{\u001b[39;00mrunname\u001b[38;5;132;01m}\u001b[39;00m\u001b[38;5;124m'\u001b[39m))\n\u001b[1;32m     11\u001b[0m optimizer \u001b[38;5;241m=\u001b[39m torch\u001b[38;5;241m.\u001b[39moptim\u001b[38;5;241m.\u001b[39mAdam(model\u001b[38;5;241m.\u001b[39mparameters(), lr\u001b[38;5;241m=\u001b[39m\u001b[38;5;241m0.0001\u001b[39m)\n\u001b[0;32m---> 12\u001b[0m \u001b[43mtrain_model\u001b[49m\u001b[43m(\u001b[49m\u001b[43mmodel\u001b[49m\u001b[38;5;241;43m=\u001b[39;49m\u001b[43mmodel\u001b[49m\u001b[43m,\u001b[49m\u001b[43m \u001b[49m\n\u001b[1;32m     13\u001b[0m \u001b[43m            \u001b[49m\u001b[43moptimizer\u001b[49m\u001b[38;5;241;43m=\u001b[39;49m\u001b[43moptimizer\u001b[49m\u001b[43m,\u001b[49m\n\u001b[1;32m     14\u001b[0m \u001b[43m            \u001b[49m\u001b[43mtrain_data\u001b[49m\u001b[38;5;241;43m=\u001b[39;49m\u001b[43mtrain_dataloader\u001b[49m\u001b[43m,\u001b[49m\n\u001b[1;32m     15\u001b[0m \u001b[43m            \u001b[49m\u001b[43mvalidate_data\u001b[49m\u001b[38;5;241;43m=\u001b[39;49m\u001b[43mvalidation_dataloader\u001b[49m\u001b[43m,\u001b[49m\n\u001b[1;32m     16\u001b[0m \u001b[43m            \u001b[49m\u001b[43moutput_run_dir\u001b[49m\u001b[38;5;241;43m=\u001b[39;49m\u001b[43moutput_run_dir\u001b[49m\u001b[43m,\u001b[49m\n\u001b[1;32m     17\u001b[0m \u001b[43m            \u001b[49m\u001b[38;5;241;43m*\u001b[39;49m\u001b[38;5;241;43m*\u001b[39;49m\u001b[43mrun_details\u001b[49m\u001b[43m[\u001b[49m\u001b[38;5;124;43m\"\u001b[39;49m\u001b[38;5;124;43mrun_params\u001b[39;49m\u001b[38;5;124;43m\"\u001b[39;49m\u001b[43m]\u001b[49m\u001b[43m,\u001b[49m\u001b[43m \u001b[49m\n\u001b[1;32m     18\u001b[0m \u001b[43m            \u001b[49m\u001b[43mwriter\u001b[49m\u001b[38;5;241;43m=\u001b[39;49m\u001b[43mwriter\u001b[49m\u001b[43m,\u001b[49m\u001b[43m \u001b[49m\n\u001b[1;32m     19\u001b[0m \u001b[43m            \u001b[49m\u001b[43mload\u001b[49m\u001b[38;5;241;43m=\u001b[39;49m\u001b[38;5;28;43;01mTrue\u001b[39;49;00m\n\u001b[1;32m     20\u001b[0m \u001b[43m           \u001b[49m\u001b[43m)\u001b[49m\n\u001b[1;32m     21\u001b[0m writer\u001b[38;5;241m.\u001b[39mclose()\n",
      "File \u001b[0;32m~/Library/CloudStorage/OneDrive-UCB-O365/Work/Research-Becker-Group/src/lib/framework/train.py:107\u001b[0m, in \u001b[0;36mtrain_model\u001b[0;34m(model, optimizer, train_data, validate_data, output_run_dir, machine, epochs, checkpoint_at, load, batch_pr, writer, profiler, loss_fcn, **kwargs)\u001b[0m\n\u001b[1;32m    105\u001b[0m model\u001b[38;5;241m.\u001b[39mtrain(\u001b[38;5;28;01mFalse\u001b[39;00m)\n\u001b[1;32m    106\u001b[0m v_arr \u001b[38;5;241m=\u001b[39m []\n\u001b[0;32m--> 107\u001b[0m \u001b[38;5;28;01mfor\u001b[39;00m v_data \u001b[38;5;129;01min\u001b[39;00m validate_data:\n\u001b[1;32m    108\u001b[0m     v_data \u001b[38;5;241m=\u001b[39m v_data\u001b[38;5;241m.\u001b[39mto(device)\n\u001b[1;32m    109\u001b[0m     U_v, V_v \u001b[38;5;241m=\u001b[39m model(v_data)\n",
      "File \u001b[0;32m~/.pyenv/versions/3.10.0/lib/python3.10/site-packages/torch/utils/data/dataloader.py:630\u001b[0m, in \u001b[0;36m_BaseDataLoaderIter.__next__\u001b[0;34m(self)\u001b[0m\n\u001b[1;32m    627\u001b[0m \u001b[38;5;28;01mif\u001b[39;00m \u001b[38;5;28mself\u001b[39m\u001b[38;5;241m.\u001b[39m_sampler_iter \u001b[38;5;129;01mis\u001b[39;00m \u001b[38;5;28;01mNone\u001b[39;00m:\n\u001b[1;32m    628\u001b[0m     \u001b[38;5;66;03m# TODO(https://github.com/pytorch/pytorch/issues/76750)\u001b[39;00m\n\u001b[1;32m    629\u001b[0m     \u001b[38;5;28mself\u001b[39m\u001b[38;5;241m.\u001b[39m_reset()  \u001b[38;5;66;03m# type: ignore[call-arg]\u001b[39;00m\n\u001b[0;32m--> 630\u001b[0m data \u001b[38;5;241m=\u001b[39m \u001b[38;5;28;43mself\u001b[39;49m\u001b[38;5;241;43m.\u001b[39;49m\u001b[43m_next_data\u001b[49m\u001b[43m(\u001b[49m\u001b[43m)\u001b[49m\n\u001b[1;32m    631\u001b[0m \u001b[38;5;28mself\u001b[39m\u001b[38;5;241m.\u001b[39m_num_yielded \u001b[38;5;241m+\u001b[39m\u001b[38;5;241m=\u001b[39m \u001b[38;5;241m1\u001b[39m\n\u001b[1;32m    632\u001b[0m \u001b[38;5;28;01mif\u001b[39;00m \u001b[38;5;28mself\u001b[39m\u001b[38;5;241m.\u001b[39m_dataset_kind \u001b[38;5;241m==\u001b[39m _DatasetKind\u001b[38;5;241m.\u001b[39mIterable \u001b[38;5;129;01mand\u001b[39;00m \\\n\u001b[1;32m    633\u001b[0m         \u001b[38;5;28mself\u001b[39m\u001b[38;5;241m.\u001b[39m_IterableDataset_len_called \u001b[38;5;129;01mis\u001b[39;00m \u001b[38;5;129;01mnot\u001b[39;00m \u001b[38;5;28;01mNone\u001b[39;00m \u001b[38;5;129;01mand\u001b[39;00m \\\n\u001b[1;32m    634\u001b[0m         \u001b[38;5;28mself\u001b[39m\u001b[38;5;241m.\u001b[39m_num_yielded \u001b[38;5;241m>\u001b[39m \u001b[38;5;28mself\u001b[39m\u001b[38;5;241m.\u001b[39m_IterableDataset_len_called:\n",
      "File \u001b[0;32m~/.pyenv/versions/3.10.0/lib/python3.10/site-packages/torch/utils/data/dataloader.py:674\u001b[0m, in \u001b[0;36m_SingleProcessDataLoaderIter._next_data\u001b[0;34m(self)\u001b[0m\n\u001b[1;32m    672\u001b[0m \u001b[38;5;28;01mdef\u001b[39;00m \u001b[38;5;21m_next_data\u001b[39m(\u001b[38;5;28mself\u001b[39m):\n\u001b[1;32m    673\u001b[0m     index \u001b[38;5;241m=\u001b[39m \u001b[38;5;28mself\u001b[39m\u001b[38;5;241m.\u001b[39m_next_index()  \u001b[38;5;66;03m# may raise StopIteration\u001b[39;00m\n\u001b[0;32m--> 674\u001b[0m     data \u001b[38;5;241m=\u001b[39m \u001b[38;5;28;43mself\u001b[39;49m\u001b[38;5;241;43m.\u001b[39;49m\u001b[43m_dataset_fetcher\u001b[49m\u001b[38;5;241;43m.\u001b[39;49m\u001b[43mfetch\u001b[49m\u001b[43m(\u001b[49m\u001b[43mindex\u001b[49m\u001b[43m)\u001b[49m  \u001b[38;5;66;03m# may raise StopIteration\u001b[39;00m\n\u001b[1;32m    675\u001b[0m     \u001b[38;5;28;01mif\u001b[39;00m \u001b[38;5;28mself\u001b[39m\u001b[38;5;241m.\u001b[39m_pin_memory:\n\u001b[1;32m    676\u001b[0m         data \u001b[38;5;241m=\u001b[39m _utils\u001b[38;5;241m.\u001b[39mpin_memory\u001b[38;5;241m.\u001b[39mpin_memory(data, \u001b[38;5;28mself\u001b[39m\u001b[38;5;241m.\u001b[39m_pin_memory_device)\n",
      "File \u001b[0;32m~/.pyenv/versions/3.10.0/lib/python3.10/site-packages/torch/utils/data/_utils/fetch.py:49\u001b[0m, in \u001b[0;36m_MapDatasetFetcher.fetch\u001b[0;34m(self, possibly_batched_index)\u001b[0m\n\u001b[1;32m     47\u001b[0m \u001b[38;5;28;01mif\u001b[39;00m \u001b[38;5;28mself\u001b[39m\u001b[38;5;241m.\u001b[39mauto_collation:\n\u001b[1;32m     48\u001b[0m     \u001b[38;5;28;01mif\u001b[39;00m \u001b[38;5;28mhasattr\u001b[39m(\u001b[38;5;28mself\u001b[39m\u001b[38;5;241m.\u001b[39mdataset, \u001b[38;5;124m\"\u001b[39m\u001b[38;5;124m__getitems__\u001b[39m\u001b[38;5;124m\"\u001b[39m) \u001b[38;5;129;01mand\u001b[39;00m \u001b[38;5;28mself\u001b[39m\u001b[38;5;241m.\u001b[39mdataset\u001b[38;5;241m.\u001b[39m__getitems__:\n\u001b[0;32m---> 49\u001b[0m         data \u001b[38;5;241m=\u001b[39m \u001b[38;5;28;43mself\u001b[39;49m\u001b[38;5;241;43m.\u001b[39;49m\u001b[43mdataset\u001b[49m\u001b[38;5;241;43m.\u001b[39;49m\u001b[43m__getitems__\u001b[49m\u001b[43m(\u001b[49m\u001b[43mpossibly_batched_index\u001b[49m\u001b[43m)\u001b[49m\n\u001b[1;32m     50\u001b[0m     \u001b[38;5;28;01melse\u001b[39;00m:\n\u001b[1;32m     51\u001b[0m         data \u001b[38;5;241m=\u001b[39m [\u001b[38;5;28mself\u001b[39m\u001b[38;5;241m.\u001b[39mdataset[idx] \u001b[38;5;28;01mfor\u001b[39;00m idx \u001b[38;5;129;01min\u001b[39;00m possibly_batched_index]\n",
      "File \u001b[0;32m~/.pyenv/versions/3.10.0/lib/python3.10/site-packages/torch/utils/data/dataset.py:364\u001b[0m, in \u001b[0;36mSubset.__getitems__\u001b[0;34m(self, indices)\u001b[0m\n\u001b[1;32m    362\u001b[0m     \u001b[38;5;28;01mreturn\u001b[39;00m \u001b[38;5;28mself\u001b[39m\u001b[38;5;241m.\u001b[39mdataset\u001b[38;5;241m.\u001b[39m__getitems__([\u001b[38;5;28mself\u001b[39m\u001b[38;5;241m.\u001b[39mindices[idx] \u001b[38;5;28;01mfor\u001b[39;00m idx \u001b[38;5;129;01min\u001b[39;00m indices])  \u001b[38;5;66;03m# type: ignore[attr-defined]\u001b[39;00m\n\u001b[1;32m    363\u001b[0m \u001b[38;5;28;01melse\u001b[39;00m:\n\u001b[0;32m--> 364\u001b[0m     \u001b[38;5;28;01mreturn\u001b[39;00m [\u001b[38;5;28mself\u001b[39m\u001b[38;5;241m.\u001b[39mdataset[\u001b[38;5;28mself\u001b[39m\u001b[38;5;241m.\u001b[39mindices[idx]] \u001b[38;5;28;01mfor\u001b[39;00m idx \u001b[38;5;129;01min\u001b[39;00m indices]\n",
      "File \u001b[0;32m~/.pyenv/versions/3.10.0/lib/python3.10/site-packages/torch/utils/data/dataset.py:364\u001b[0m, in \u001b[0;36m<listcomp>\u001b[0;34m(.0)\u001b[0m\n\u001b[1;32m    362\u001b[0m     \u001b[38;5;28;01mreturn\u001b[39;00m \u001b[38;5;28mself\u001b[39m\u001b[38;5;241m.\u001b[39mdataset\u001b[38;5;241m.\u001b[39m__getitems__([\u001b[38;5;28mself\u001b[39m\u001b[38;5;241m.\u001b[39mindices[idx] \u001b[38;5;28;01mfor\u001b[39;00m idx \u001b[38;5;129;01min\u001b[39;00m indices])  \u001b[38;5;66;03m# type: ignore[attr-defined]\u001b[39;00m\n\u001b[1;32m    363\u001b[0m \u001b[38;5;28;01melse\u001b[39;00m:\n\u001b[0;32m--> 364\u001b[0m     \u001b[38;5;28;01mreturn\u001b[39;00m [\u001b[38;5;28;43mself\u001b[39;49m\u001b[38;5;241;43m.\u001b[39;49m\u001b[43mdataset\u001b[49m\u001b[43m[\u001b[49m\u001b[38;5;28;43mself\u001b[39;49m\u001b[38;5;241;43m.\u001b[39;49m\u001b[43mindices\u001b[49m\u001b[43m[\u001b[49m\u001b[43midx\u001b[49m\u001b[43m]\u001b[49m\u001b[43m]\u001b[49m \u001b[38;5;28;01mfor\u001b[39;00m idx \u001b[38;5;129;01min\u001b[39;00m indices]\n",
      "File \u001b[0;32m~/Library/CloudStorage/OneDrive-UCB-O365/Work/Research-Becker-Group/src/lib/datasets/gen_plasma_1d.py:46\u001b[0m, in \u001b[0;36mGenPlasma1DDataset.__getitem__\u001b[0;34m(self, idx)\u001b[0m\n\u001b[1;32m     43\u001b[0m mat_num \u001b[38;5;241m=\u001b[39m idx \u001b[38;5;28;01mif\u001b[39;00m folder_num \u001b[38;5;241m==\u001b[39m \u001b[38;5;241m0\u001b[39m \u001b[38;5;28;01melse\u001b[39;00m idx \u001b[38;5;241m-\u001b[39m \u001b[38;5;28mself\u001b[39m\u001b[38;5;241m.\u001b[39m_folder_idxs[folder_num \u001b[38;5;241m-\u001b[39m \u001b[38;5;241m1\u001b[39m] \u001b[38;5;241m-\u001b[39m \u001b[38;5;241m1\u001b[39m\n\u001b[1;32m     44\u001b[0m mat_paths \u001b[38;5;241m=\u001b[39m [os\u001b[38;5;241m.\u001b[39mpath\u001b[38;5;241m.\u001b[39mjoin(\u001b[38;5;28mself\u001b[39m\u001b[38;5;241m.\u001b[39mmat_dirs[folder_num], \u001b[38;5;124mf\u001b[39m\u001b[38;5;124m\"\u001b[39m\u001b[38;5;132;01m{\u001b[39;00mm\u001b[38;5;132;01m}\u001b[39;00m\u001b[38;5;124m_\u001b[39m\u001b[38;5;132;01m{\u001b[39;00mmat_num\u001b[38;5;132;01m}\u001b[39;00m\u001b[38;5;124m.csv\u001b[39m\u001b[38;5;124m\"\u001b[39m) \u001b[38;5;28;01mfor\u001b[39;00m m \u001b[38;5;129;01min\u001b[39;00m \u001b[38;5;28mself\u001b[39m\u001b[38;5;241m.\u001b[39mmat_names]\n\u001b[0;32m---> 46\u001b[0m mats \u001b[38;5;241m=\u001b[39m \u001b[38;5;28;43mtuple\u001b[39;49m\u001b[43m(\u001b[49m\u001b[43mtorch\u001b[49m\u001b[38;5;241;43m.\u001b[39;49m\u001b[43mTensor\u001b[49m\u001b[43m(\u001b[49m\u001b[43mnp\u001b[49m\u001b[38;5;241;43m.\u001b[39;49m\u001b[43mgenfromtxt\u001b[49m\u001b[43m(\u001b[49m\u001b[43mm\u001b[49m\u001b[43m,\u001b[49m\u001b[43m \u001b[49m\u001b[43mdelimiter\u001b[49m\u001b[38;5;241;43m=\u001b[39;49m\u001b[38;5;124;43m\"\u001b[39;49m\u001b[38;5;124;43m,\u001b[39;49m\u001b[38;5;124;43m\"\u001b[39;49m\u001b[43m,\u001b[49m\u001b[43m \u001b[49m\u001b[43mdtype\u001b[49m\u001b[38;5;241;43m=\u001b[39;49m\u001b[38;5;28;43mfloat\u001b[39;49m\u001b[43m)\u001b[49m\u001b[43m)\u001b[49m\n\u001b[1;32m     47\u001b[0m \u001b[43m             \u001b[49m\u001b[38;5;28;43;01mfor\u001b[39;49;00m\u001b[43m \u001b[49m\u001b[43mm\u001b[49m\u001b[43m \u001b[49m\u001b[38;5;129;43;01min\u001b[39;49;00m\u001b[43m \u001b[49m\u001b[43mmat_paths\u001b[49m\u001b[43m)\u001b[49m\n\u001b[1;32m     48\u001b[0m \u001b[38;5;28;01mif\u001b[39;00m \u001b[38;5;28mself\u001b[39m\u001b[38;5;241m.\u001b[39mtransform \u001b[38;5;129;01mis\u001b[39;00m \u001b[38;5;129;01mnot\u001b[39;00m \u001b[38;5;28;01mNone\u001b[39;00m:\n\u001b[1;32m     49\u001b[0m     mats \u001b[38;5;241m=\u001b[39m \u001b[38;5;28mtuple\u001b[39m(\u001b[38;5;28mself\u001b[39m\u001b[38;5;241m.\u001b[39mtransform(m) \u001b[38;5;28;01mfor\u001b[39;00m m \u001b[38;5;129;01min\u001b[39;00m mats)\n",
      "File \u001b[0;32m~/Library/CloudStorage/OneDrive-UCB-O365/Work/Research-Becker-Group/src/lib/datasets/gen_plasma_1d.py:46\u001b[0m, in \u001b[0;36m<genexpr>\u001b[0;34m(.0)\u001b[0m\n\u001b[1;32m     43\u001b[0m mat_num \u001b[38;5;241m=\u001b[39m idx \u001b[38;5;28;01mif\u001b[39;00m folder_num \u001b[38;5;241m==\u001b[39m \u001b[38;5;241m0\u001b[39m \u001b[38;5;28;01melse\u001b[39;00m idx \u001b[38;5;241m-\u001b[39m \u001b[38;5;28mself\u001b[39m\u001b[38;5;241m.\u001b[39m_folder_idxs[folder_num \u001b[38;5;241m-\u001b[39m \u001b[38;5;241m1\u001b[39m] \u001b[38;5;241m-\u001b[39m \u001b[38;5;241m1\u001b[39m\n\u001b[1;32m     44\u001b[0m mat_paths \u001b[38;5;241m=\u001b[39m [os\u001b[38;5;241m.\u001b[39mpath\u001b[38;5;241m.\u001b[39mjoin(\u001b[38;5;28mself\u001b[39m\u001b[38;5;241m.\u001b[39mmat_dirs[folder_num], \u001b[38;5;124mf\u001b[39m\u001b[38;5;124m\"\u001b[39m\u001b[38;5;132;01m{\u001b[39;00mm\u001b[38;5;132;01m}\u001b[39;00m\u001b[38;5;124m_\u001b[39m\u001b[38;5;132;01m{\u001b[39;00mmat_num\u001b[38;5;132;01m}\u001b[39;00m\u001b[38;5;124m.csv\u001b[39m\u001b[38;5;124m\"\u001b[39m) \u001b[38;5;28;01mfor\u001b[39;00m m \u001b[38;5;129;01min\u001b[39;00m \u001b[38;5;28mself\u001b[39m\u001b[38;5;241m.\u001b[39mmat_names]\n\u001b[0;32m---> 46\u001b[0m mats \u001b[38;5;241m=\u001b[39m \u001b[38;5;28mtuple\u001b[39m(torch\u001b[38;5;241m.\u001b[39mTensor(\u001b[43mnp\u001b[49m\u001b[38;5;241;43m.\u001b[39;49m\u001b[43mgenfromtxt\u001b[49m\u001b[43m(\u001b[49m\u001b[43mm\u001b[49m\u001b[43m,\u001b[49m\u001b[43m \u001b[49m\u001b[43mdelimiter\u001b[49m\u001b[38;5;241;43m=\u001b[39;49m\u001b[38;5;124;43m\"\u001b[39;49m\u001b[38;5;124;43m,\u001b[39;49m\u001b[38;5;124;43m\"\u001b[39;49m\u001b[43m,\u001b[49m\u001b[43m \u001b[49m\u001b[43mdtype\u001b[49m\u001b[38;5;241;43m=\u001b[39;49m\u001b[38;5;28;43mfloat\u001b[39;49m\u001b[43m)\u001b[49m)\n\u001b[1;32m     47\u001b[0m              \u001b[38;5;28;01mfor\u001b[39;00m m \u001b[38;5;129;01min\u001b[39;00m mat_paths)\n\u001b[1;32m     48\u001b[0m \u001b[38;5;28;01mif\u001b[39;00m \u001b[38;5;28mself\u001b[39m\u001b[38;5;241m.\u001b[39mtransform \u001b[38;5;129;01mis\u001b[39;00m \u001b[38;5;129;01mnot\u001b[39;00m \u001b[38;5;28;01mNone\u001b[39;00m:\n\u001b[1;32m     49\u001b[0m     mats \u001b[38;5;241m=\u001b[39m \u001b[38;5;28mtuple\u001b[39m(\u001b[38;5;28mself\u001b[39m\u001b[38;5;241m.\u001b[39mtransform(m) \u001b[38;5;28;01mfor\u001b[39;00m m \u001b[38;5;129;01min\u001b[39;00m mats)\n",
      "File \u001b[0;32m~/.pyenv/versions/3.10.0/lib/python3.10/site-packages/numpy/lib/npyio.py:2182\u001b[0m, in \u001b[0;36mgenfromtxt\u001b[0;34m(fname, dtype, comments, delimiter, skip_header, skip_footer, converters, missing_values, filling_values, usecols, names, excludelist, deletechars, replace_space, autostrip, case_sensitive, defaultfmt, unpack, usemask, loose, invalid_raise, max_rows, encoding, ndmin, like)\u001b[0m\n\u001b[1;32m   2179\u001b[0m     \u001b[38;5;28;01melse\u001b[39;00m:\n\u001b[1;32m   2180\u001b[0m         \u001b[38;5;66;03m# Set to a default converter (but w/ different missing values)\u001b[39;00m\n\u001b[1;32m   2181\u001b[0m         zipit \u001b[38;5;241m=\u001b[39m \u001b[38;5;28mzip\u001b[39m(missing_values, filling_values)\n\u001b[0;32m-> 2182\u001b[0m         converters \u001b[38;5;241m=\u001b[39m [StringConverter(dtype, locked\u001b[38;5;241m=\u001b[39m\u001b[38;5;28;01mTrue\u001b[39;00m,\n\u001b[1;32m   2183\u001b[0m                                       missing_values\u001b[38;5;241m=\u001b[39mmiss, default\u001b[38;5;241m=\u001b[39mfill)\n\u001b[1;32m   2184\u001b[0m                       \u001b[38;5;28;01mfor\u001b[39;00m (miss, fill) \u001b[38;5;129;01min\u001b[39;00m zipit]\n\u001b[1;32m   2185\u001b[0m \u001b[38;5;66;03m# Update the converters to use the user-defined ones\u001b[39;00m\n\u001b[1;32m   2186\u001b[0m uc_update \u001b[38;5;241m=\u001b[39m []\n",
      "File \u001b[0;32m~/.pyenv/versions/3.10.0/lib/python3.10/site-packages/numpy/lib/npyio.py:2182\u001b[0m, in \u001b[0;36m<listcomp>\u001b[0;34m(.0)\u001b[0m\n\u001b[1;32m   2179\u001b[0m     \u001b[38;5;28;01melse\u001b[39;00m:\n\u001b[1;32m   2180\u001b[0m         \u001b[38;5;66;03m# Set to a default converter (but w/ different missing values)\u001b[39;00m\n\u001b[1;32m   2181\u001b[0m         zipit \u001b[38;5;241m=\u001b[39m \u001b[38;5;28mzip\u001b[39m(missing_values, filling_values)\n\u001b[0;32m-> 2182\u001b[0m         converters \u001b[38;5;241m=\u001b[39m [\u001b[43mStringConverter\u001b[49m\u001b[43m(\u001b[49m\u001b[43mdtype\u001b[49m\u001b[43m,\u001b[49m\u001b[43m \u001b[49m\u001b[43mlocked\u001b[49m\u001b[38;5;241;43m=\u001b[39;49m\u001b[38;5;28;43;01mTrue\u001b[39;49;00m\u001b[43m,\u001b[49m\n\u001b[1;32m   2183\u001b[0m \u001b[43m                                      \u001b[49m\u001b[43mmissing_values\u001b[49m\u001b[38;5;241;43m=\u001b[39;49m\u001b[43mmiss\u001b[49m\u001b[43m,\u001b[49m\u001b[43m \u001b[49m\u001b[43mdefault\u001b[49m\u001b[38;5;241;43m=\u001b[39;49m\u001b[43mfill\u001b[49m\u001b[43m)\u001b[49m\n\u001b[1;32m   2184\u001b[0m                       \u001b[38;5;28;01mfor\u001b[39;00m (miss, fill) \u001b[38;5;129;01min\u001b[39;00m zipit]\n\u001b[1;32m   2185\u001b[0m \u001b[38;5;66;03m# Update the converters to use the user-defined ones\u001b[39;00m\n\u001b[1;32m   2186\u001b[0m uc_update \u001b[38;5;241m=\u001b[39m []\n",
      "File \u001b[0;32m~/.pyenv/versions/3.10.0/lib/python3.10/site-packages/numpy/lib/_iotools.py:663\u001b[0m, in \u001b[0;36mStringConverter.__init__\u001b[0;34m(self, dtype_or_func, default, missing_values, locked)\u001b[0m\n\u001b[1;32m    661\u001b[0m     \u001b[38;5;28;01mif\u001b[39;00m \u001b[38;5;28misinstance\u001b[39m(missing_values, \u001b[38;5;28mstr\u001b[39m):\n\u001b[1;32m    662\u001b[0m         missing_values \u001b[38;5;241m=\u001b[39m missing_values\u001b[38;5;241m.\u001b[39msplit(\u001b[38;5;124m\"\u001b[39m\u001b[38;5;124m,\u001b[39m\u001b[38;5;124m\"\u001b[39m)\n\u001b[0;32m--> 663\u001b[0m     \u001b[38;5;28mself\u001b[39m\u001b[38;5;241m.\u001b[39mmissing_values \u001b[38;5;241m=\u001b[39m \u001b[38;5;28;43mset\u001b[39;49m\u001b[43m(\u001b[49m\u001b[38;5;28;43mlist\u001b[39;49m\u001b[43m(\u001b[49m\u001b[43mmissing_values\u001b[49m\u001b[43m)\u001b[49m\u001b[43m \u001b[49m\u001b[38;5;241;43m+\u001b[39;49m\u001b[43m \u001b[49m\u001b[43m[\u001b[49m\u001b[38;5;124;43m'\u001b[39;49m\u001b[38;5;124;43m'\u001b[39;49m\u001b[43m]\u001b[49m\u001b[43m)\u001b[49m\n\u001b[1;32m    665\u001b[0m \u001b[38;5;28mself\u001b[39m\u001b[38;5;241m.\u001b[39m_callingfunction \u001b[38;5;241m=\u001b[39m \u001b[38;5;28mself\u001b[39m\u001b[38;5;241m.\u001b[39m_strict_call\n\u001b[1;32m    666\u001b[0m \u001b[38;5;28mself\u001b[39m\u001b[38;5;241m.\u001b[39mtype \u001b[38;5;241m=\u001b[39m \u001b[38;5;28mself\u001b[39m\u001b[38;5;241m.\u001b[39m_dtypeortype(dtype)\n",
      "\u001b[0;31mKeyboardInterrupt\u001b[0m: "
     ]
    }
   ],
   "source": [
    "if not os.path.exists(output_run_dir):\n",
    "    os.mkdir(output_run_dir)\n",
    "\n",
    "# Save details\n",
    "with open(os.path.join(output_run_dir, f\"details_{runname}.json\"), \"w\" ) as write:\n",
    "    json.dump(run_details, write, indent=2 )\n",
    "\n",
    "\n",
    "for model in models:\n",
    "    writer = SummaryWriter(os.path.join(tensorboard_dir, f'{machine}_{model.get_name()}_{runname}'))\n",
    "    optimizer = torch.optim.Adam(model.parameters(), lr=0.0001)\n",
    "    train_model(model=model, \n",
    "                optimizer=optimizer,\n",
    "                train_data=train_dataloader,\n",
    "                validate_data=validation_dataloader,\n",
    "                output_run_dir=output_run_dir,\n",
    "                **run_details[\"run_params\"], \n",
    "                writer=writer, \n",
    "                load=False\n",
    "               )\n",
    "    writer.close()"
   ]
  },
  {
   "cell_type": "markdown",
   "id": "b26b6ee6-a883-49ff-9f5f-24770bda2e8e",
   "metadata": {},
   "source": [
    "### Single model running"
   ]
  },
  {
   "cell_type": "code",
   "execution_count": null,
   "id": "df346cd8-400c-4862-a208-c0240bf79bf6",
   "metadata": {
    "editable": true,
    "execution": {
     "iopub.status.busy": "2023-12-20T03:37:01.864875Z",
     "iopub.status.idle": "2023-12-20T03:37:01.865544Z",
     "shell.execute_reply": "2023-12-20T03:37:01.865376Z",
     "shell.execute_reply.started": "2023-12-20T03:37:01.865359Z"
    },
    "slideshow": {
     "slide_type": ""
    },
    "tags": []
   },
   "outputs": [],
   "source": [
    "# # model = Fork(nn_rank, img_size, [500, 200], [200, 300]).to(device)\n",
    "# model = model_danmf\n",
    "# runname = \"Better_opt\"\n",
    "# output_run_dir = output_dir\n",
    "# writer = SummaryWriter(os.path.join(tensorboard_dir, f'{machine}_{model.get_name()}_{runname}'))\n",
    "\n",
    "# # Optimizer\n",
    "# optimizer = torch.optim.Adam(model.parameters(), lr=0.0001)\n",
    "# # optimizer = torch.optim.SGD(model.parameters(), lr=0.01, momentum=0.9)\n",
    "\n",
    "\n",
    "# train_model(model, optimizer, output_run_dir, epochs=120, checkpoint_at=30, batch_pr=40, writer=writer, load=False)\n",
    "\n",
    "## Profiling code\n",
    "# with profiler.profile(activities=[profiler.ProfilerActivity.CPU, profiler.ProfilerActivity.CUDA] if use_cuda else [profiler.ProfilerActivity.CPU],\n",
    "#                          record_shapes=False,\n",
    "#                          profile_memory=True,\n",
    "#                          # use_cuda=use_cuda,\n",
    "#                          schedule=torch.profiler.schedule(\n",
    "#                             wait=1,\n",
    "#                             warmup=1,\n",
    "#                             active=2,\n",
    "#                             repeat=1),\n",
    "#                          on_trace_ready=trace_handler\n",
    "#                          ) as prof:\n",
    "#         with profiler.record_function(\"train_model\"):\n",
    "#             train_model(15, model, optimizer, checkpoint_at=5, writer=writer, load=False, profiler=prof)"
   ]
  },
  {
   "cell_type": "markdown",
   "id": "15f4507d-53f1-43b0-94d7-c0b0cdbdfcfd",
   "metadata": {},
   "source": [
    "## Winners\n",
    "\n",
    "* "
   ]
  },
  {
   "cell_type": "code",
   "execution_count": null,
   "id": "b6211000-7c2a-4c3f-810f-7453d21d7641",
   "metadata": {},
   "outputs": [],
   "source": []
  }
 ],
 "metadata": {
  "kernelspec": {
   "display_name": "Python 3 (ipykernel)",
   "language": "python",
   "name": "python3"
  },
  "language_info": {
   "codemirror_mode": {
    "name": "ipython",
    "version": 3
   },
   "file_extension": ".py",
   "mimetype": "text/x-python",
   "name": "python",
   "nbconvert_exporter": "python",
   "pygments_lexer": "ipython3",
   "version": "3.10.11"
  },
  "widgets": {
   "application/vnd.jupyter.widget-state+json": {
    "state": {},
    "version_major": 2,
    "version_minor": 0
   }
  }
 },
 "nbformat": 4,
 "nbformat_minor": 5
}
