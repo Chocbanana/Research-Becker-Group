{
 "cells": [
  {
   "cell_type": "markdown",
   "id": "b536bf86-1a3f-4194-8f6f-cabe90a73f41",
   "metadata": {},
   "source": [
    "# Test speed of loading different filetypes"
   ]
  },
  {
   "cell_type": "code",
   "execution_count": 1,
   "id": "fcef177b-3bab-428d-8d4f-7b5adcfddf55",
   "metadata": {
    "execution": {
     "iopub.execute_input": "2024-02-16T12:04:03.805494Z",
     "iopub.status.busy": "2024-02-16T12:04:03.804996Z",
     "iopub.status.idle": "2024-02-16T12:04:05.651970Z",
     "shell.execute_reply": "2024-02-16T12:04:05.651444Z",
     "shell.execute_reply.started": "2024-02-16T12:04:03.805494Z"
    }
   },
   "outputs": [],
   "source": [
    "import os\n",
    "from timeit import default_timer\n",
    "\n",
    "import numpy as np\n",
    "import h5py\n",
    "\n",
    "import plotly.express as px"
   ]
  },
  {
   "cell_type": "code",
   "execution_count": 2,
   "id": "bdf655cd-263c-48ea-ba5e-312655b9ae68",
   "metadata": {
    "execution": {
     "iopub.execute_input": "2024-02-16T12:04:05.653912Z",
     "iopub.status.busy": "2024-02-16T12:04:05.653412Z",
     "iopub.status.idle": "2024-02-16T12:04:05.697919Z",
     "shell.execute_reply": "2024-02-16T12:04:05.697919Z",
     "shell.execute_reply.started": "2024-02-16T12:04:05.653912Z"
    }
   },
   "outputs": [
    {
     "name": "stdout",
     "output_type": "stream",
     "text": [
      "['..\\\\..\\\\data\\\\gen_plasma_n64\\\\mat_0', '..\\\\..\\\\data\\\\gen_plasma_n64\\\\mat_1', '..\\\\..\\\\data\\\\gen_plasma_n64\\\\mat_2'] [8145, 8145, 5685]\n"
     ]
    }
   ],
   "source": [
    "data_path = os.path.normpath(\"../../data\")\n",
    "folders = [os.path.join(data_path, \"gen_plasma_n64\", f\"mat_{i}\") for i in range(3)]\n",
    "lens = [int(len(list(filter(lambda x: x.endswith(\".csv\"), os.listdir(f)))) / 4) for f in folders]\n",
    "\n",
    "print(folders, lens)"
   ]
  },
  {
   "cell_type": "markdown",
   "id": "06925f93-d61d-4e39-a10e-f4dbf45cbe7a",
   "metadata": {},
   "source": [
    "## CSV format"
   ]
  },
  {
   "cell_type": "markdown",
   "id": "b18f7209-6490-40a7-8791-e573d08d91ff",
   "metadata": {},
   "source": [
    "### Loading one matrix"
   ]
  },
  {
   "cell_type": "code",
   "execution_count": 3,
   "id": "170bd044-da4f-4158-be2a-d6891de67cc6",
   "metadata": {
    "execution": {
     "iopub.execute_input": "2024-02-16T12:04:14.428797Z",
     "iopub.status.busy": "2024-02-16T12:04:14.428297Z",
     "iopub.status.idle": "2024-02-16T12:08:11.317285Z",
     "shell.execute_reply": "2024-02-16T12:08:11.316784Z",
     "shell.execute_reply.started": "2024-02-16T12:04:14.428797Z"
    }
   },
   "outputs": [
    {
     "name": "stdout",
     "output_type": "stream",
     "text": [
      "[0.009987015310303148]\n",
      "[0.009987015310303148, 0.010965053861171945]\n",
      "[0.009987015310303148, 0.010965053861171945, 0.011608856218048308]\n"
     ]
    }
   ],
   "source": [
    "times_csv = []\n",
    "\n",
    "for i, folder in enumerate(folders):\n",
    "    time = 0\n",
    "\n",
    "    for f in range(lens[i]):\n",
    "        path = os.path.join(folder, f\"f_{f}.csv\")\n",
    "\n",
    "        start_time = default_timer()\n",
    "        tstload = np.genfromtxt(path, delimiter=\",\", dtype=float)\n",
    "        time += default_timer() - start_time\n",
    "\n",
    "    times_csv.append(time / lens[i])\n",
    "    print(times_csv)"
   ]
  },
  {
   "cell_type": "markdown",
   "id": "3a98adb9-d84e-438c-b477-e901e1fd5918",
   "metadata": {},
   "source": [
    "## Convert to HDF5\n",
    "\n",
    "Only run this code once."
   ]
  },
  {
   "cell_type": "markdown",
   "id": "575fbf1f-3028-41b6-807d-745c671be392",
   "metadata": {},
   "source": [
    "### Loading all 4 matrices"
   ]
  },
  {
   "cell_type": "code",
   "execution_count": 4,
   "id": "ee8b8a44-5fc0-429b-85ec-2da9118c933c",
   "metadata": {
    "execution": {
     "iopub.execute_input": "2024-02-16T12:11:06.317562Z",
     "iopub.status.busy": "2024-02-16T12:11:06.317062Z",
     "iopub.status.idle": "2024-02-16T12:23:39.851473Z",
     "shell.execute_reply": "2024-02-16T12:23:39.850473Z",
     "shell.execute_reply.started": "2024-02-16T12:11:06.317562Z"
    }
   },
   "outputs": [
    {
     "name": "stdout",
     "output_type": "stream",
     "text": [
      "Done ..\\..\\data\\gen_plasma_n64\\mat_0, times: [0.032473367710285944]\n",
      "Done ..\\..\\data\\gen_plasma_n64\\mat_1, times: [0.032473367710285944, 0.030567587562879587]\n",
      "Done ..\\..\\data\\gen_plasma_n64\\mat_2, times: [0.032473367710285944, 0.030567587562879587, 0.030007194669973744]\n"
     ]
    }
   ],
   "source": [
    "times_allm_csv = []\n",
    "\n",
    "for i, folder in enumerate(folders):\n",
    "    time = 0\n",
    "    \n",
    "    for f in range(lens[i]):\n",
    "        paths = [os.path.join(folder, f\"{s}_{f}.csv\") for s in (\"f\", \"S\", \"U\", \"V\")]\n",
    "\n",
    "        start_time = default_timer()\n",
    "        m_f = np.genfromtxt(paths[0], delimiter=\",\", dtype=float)\n",
    "        m_S = np.genfromtxt(paths[1], delimiter=\",\", dtype=float)\n",
    "        m_U = np.genfromtxt(paths[2], delimiter=\",\", dtype=float)\n",
    "        m_V = np.genfromtxt(paths[3], delimiter=\",\", dtype=float)\n",
    "        time += default_timer() - start_time\n",
    "\n",
    "        # with h5py.File(os.path.join(folder, f'{f}.hdf5'), 'w') as file:\n",
    "        #         file.create_dataset(\"f\", data=m_f)\n",
    "        #         file.create_dataset(\"S\", data=m_S)\n",
    "        #         file.create_dataset(\"U\", data=m_U)\n",
    "        #         file.create_dataset(\"V\", data=m_V)\n",
    "\n",
    "    times_allm_csv.append(time / lens[i])\n",
    "    print(f\"Done {folder}, times: {times_allm_csv}\")\n"
   ]
  },
  {
   "cell_type": "markdown",
   "id": "beeddaa9-c216-431e-9f38-82dc54a428a3",
   "metadata": {},
   "source": [
    "### Convert bigger to HDF5\n",
    "\n",
    "Run once."
   ]
  },
  {
   "cell_type": "code",
   "execution_count": null,
   "id": "3bfaf7ed-35df-451b-8053-fe595ac572e5",
   "metadata": {
    "execution": {
     "iopub.execute_input": "2024-02-22T22:37:30.310151Z",
     "iopub.status.busy": "2024-02-22T22:37:30.309151Z"
    }
   },
   "outputs": [
    {
     "name": "stdout",
     "output_type": "stream",
     "text": [
      "..\\..\\data\\gen_plasma_n256\\mat_1 32591\n",
      "0/32591\n",
      "499/32591\n",
      "998/32591\n",
      "1497/32591\n",
      "1996/32591\n",
      "2495/32591\n",
      "2994/32591\n",
      "3493/32591\n",
      "3992/32591\n",
      "4491/32591\n",
      "4990/32591\n",
      "5489/32591\n",
      "5988/32591\n",
      "6487/32591\n",
      "6986/32591\n",
      "7485/32591\n",
      "7984/32591\n",
      "8483/32591\n",
      "8982/32591\n",
      "9481/32591\n",
      "9980/32591\n",
      "10479/32591\n",
      "10978/32591\n",
      "11477/32591\n"
     ]
    }
   ],
   "source": [
    "folder_n256 = os.path.join(data_path, \"gen_plasma_n256\", \"mat_1\")\n",
    "len_n256 = int(len(list(filter(lambda x: x.endswith(\".csv\"), os.listdir(folder_n256)))))\n",
    "\n",
    "print(folder_n256, len_n256)\n",
    "\n",
    "out_n256 = os.path.join(data_path, \"gen_plasma_n256\", \"mat_hdf5\")\n",
    "if not os.path.exists(out_n256):\n",
    "    os.mkdir(out_n256)\n",
    "\n",
    "for i in range(len_n256):\n",
    "    path = os.path.join(folder_n256, f\"f_{i}.csv\")\n",
    "    # paths = [os.path.join(folder_n256, f\"{s}_{i}.csv\") for s in (\"f\", \"S\", \"U\", \"V\")]\n",
    "\n",
    "    m_f = np.genfromtxt(path, delimiter=\",\", dtype=float)\n",
    "\n",
    "    with h5py.File(os.path.join(out_n256, f'{i}.hdf5'), 'w') as file:\n",
    "            file.create_dataset(\"f\", data=m_f)\n",
    "\n",
    "    if i % 499 == 0:\n",
    "        print(f\"{i}/{len_n256}\")"
   ]
  },
  {
   "cell_type": "markdown",
   "id": "3d212aca-2d23-4bbb-8222-27b9e532804b",
   "metadata": {},
   "source": [
    "## HDF5 Format"
   ]
  },
  {
   "cell_type": "markdown",
   "id": "f1a5e177-c838-4bcd-821c-3535d2659974",
   "metadata": {},
   "source": [
    "### Loading all 4 matrices"
   ]
  },
  {
   "cell_type": "code",
   "execution_count": 5,
   "id": "61797a63-0bb9-4616-9309-eb3b7307af1e",
   "metadata": {
    "execution": {
     "iopub.execute_input": "2024-02-16T12:24:01.192499Z",
     "iopub.status.busy": "2024-02-16T12:24:01.191999Z",
     "iopub.status.idle": "2024-02-16T12:24:59.299268Z",
     "shell.execute_reply": "2024-02-16T12:24:59.298768Z",
     "shell.execute_reply.started": "2024-02-16T12:24:01.192499Z"
    }
   },
   "outputs": [
    {
     "name": "stdout",
     "output_type": "stream",
     "text": [
      "Done ..\\..\\data\\gen_plasma_n64\\mat_0, times: [0.0026504991034412]\n",
      "Done ..\\..\\data\\gen_plasma_n64\\mat_1, times: [0.0026504991034412, 0.002526046420850444]\n",
      "Done ..\\..\\data\\gen_plasma_n64\\mat_2, times: [0.0026504991034412, 0.002526046420850444, 0.0027727729989788694]\n"
     ]
    }
   ],
   "source": [
    "times_allm_hdf5 = []\n",
    "keys = (\"f\", \"S\", \"U\", \"V\")\n",
    "\n",
    "for i, folder in enumerate(folders):\n",
    "    time = 0\n",
    "    \n",
    "    for f in range(lens[i]):\n",
    "        path = os.path.join(folder, f\"{f}.hdf5\")\n",
    "\n",
    "        start_time = default_timer()\n",
    "        with h5py.File(path, 'r') as file:\n",
    "            # The syntax actually retrtrieves and stores the data\n",
    "            tstloads = [file[k][()] for k in keys]\n",
    "        time += default_timer() - start_time\n",
    "\n",
    "    times_allm_hdf5.append(time / lens[i])\n",
    "    print(f\"Done {folder}, times: {times_allm_hdf5}\")"
   ]
  },
  {
   "cell_type": "code",
   "execution_count": 18,
   "id": "3e1d15ab-5be0-45de-841c-fa30e0abe5b6",
   "metadata": {
    "execution": {
     "iopub.execute_input": "2024-02-16T12:33:47.775331Z",
     "iopub.status.busy": "2024-02-16T12:33:47.774831Z",
     "iopub.status.idle": "2024-02-16T12:33:47.794831Z",
     "shell.execute_reply": "2024-02-16T12:33:47.794331Z",
     "shell.execute_reply.started": "2024-02-16T12:33:47.775331Z"
    }
   },
   "outputs": [
    {
     "data": {
      "text/plain": [
       "numpy.ndarray"
      ]
     },
     "execution_count": 18,
     "metadata": {},
     "output_type": "execute_result"
    }
   ],
   "source": [
    "type(tstloads[0])"
   ]
  },
  {
   "cell_type": "markdown",
   "id": "b2a74bfa-9d60-4d1a-86e3-d5e228cca75a",
   "metadata": {},
   "source": [
    "### Loading one matrix"
   ]
  },
  {
   "cell_type": "code",
   "execution_count": 15,
   "id": "049e39a2-4e55-4921-b079-3bb7f3979245",
   "metadata": {
    "execution": {
     "iopub.execute_input": "2024-02-16T12:30:38.899337Z",
     "iopub.status.busy": "2024-02-16T12:30:38.898836Z",
     "iopub.status.idle": "2024-02-16T12:30:43.266834Z",
     "shell.execute_reply": "2024-02-16T12:30:43.266334Z",
     "shell.execute_reply.started": "2024-02-16T12:30:38.899337Z"
    }
   },
   "outputs": [
    {
     "name": "stdout",
     "output_type": "stream",
     "text": [
      "Done ..\\..\\data\\gen_plasma_n64\\mat_0, times: [0.00019759734808593105]\n",
      "Done ..\\..\\data\\gen_plasma_n64\\mat_1, times: [0.00019759734808593105, 0.0001917277594274762]\n",
      "Done ..\\..\\data\\gen_plasma_n64\\mat_2, times: [0.00019759734808593105, 0.0001917277594274762, 0.00019187614769759206]\n"
     ]
    }
   ],
   "source": [
    "times_f_hdf5 = []\n",
    "keys = (\"f\",)\n",
    "\n",
    "for i, folder in enumerate(folders):\n",
    "    time = 0\n",
    "    \n",
    "    for f in range(lens[i]):\n",
    "        path = os.path.join(folder, f\"{f}.hdf5\")\n",
    "\n",
    "        start_time = default_timer()\n",
    "        with h5py.File(path, 'r') as file:\n",
    "            # The syntax actually retrtrieves and stores the data\n",
    "            tstloads = [file[k][()] for k in keys]\n",
    "        time += default_timer() - start_time\n",
    "\n",
    "    times_f_hdf5.append(time / lens[i])\n",
    "    print(f\"Done {folder}, times: {times_f_hdf5}\")"
   ]
  },
  {
   "cell_type": "markdown",
   "id": "379af421-e56d-4420-8a10-95d8c39a7a19",
   "metadata": {},
   "source": [
    "## MAT Format\n",
    "\n",
    "Assumes that the mats were generated by Matlab; cannot use the original plasma gen code, need to actually load the csvs and save as `.mat`s becuse need to be the exact same data."
   ]
  },
  {
   "cell_type": "code",
   "execution_count": null,
   "id": "7d6dc093-39b0-4347-bcef-36bc66efe2a8",
   "metadata": {},
   "outputs": [],
   "source": []
  },
  {
   "cell_type": "markdown",
   "id": "08b48fd1-64e6-4215-bf92-e6f6313ee777",
   "metadata": {},
   "source": [
    "## Compare All"
   ]
  },
  {
   "cell_type": "code",
   "execution_count": 16,
   "id": "c9f1fb43-48b6-4709-aadf-80226f6b7c4e",
   "metadata": {
    "execution": {
     "iopub.execute_input": "2024-02-16T12:31:27.683849Z",
     "iopub.status.busy": "2024-02-16T12:31:27.683349Z",
     "iopub.status.idle": "2024-02-16T12:31:27.692349Z",
     "shell.execute_reply": "2024-02-16T12:31:27.691349Z",
     "shell.execute_reply.started": "2024-02-16T12:31:27.683849Z"
    }
   },
   "outputs": [
    {
     "data": {
      "text/plain": [
       "{'f_csv': [0.009987015310303148, 0.010965053861171945, 0.011608856218048308],\n",
       " 'f_hdf5': [0.00019759734808593105,\n",
       "  0.0001917277594274762,\n",
       "  0.00019187614769759206],\n",
       " 'allm_csv': [0.032473367710285944,\n",
       "  0.030567587562879587,\n",
       "  0.030007194669973744],\n",
       " 'allm_hdf5': [0.0026504991034412,\n",
       "  0.002526046420850444,\n",
       "  0.0027727729989788694]}"
      ]
     },
     "execution_count": 16,
     "metadata": {},
     "output_type": "execute_result"
    }
   ],
   "source": [
    "all_timings = dict(\n",
    "    f_csv=[0.009987015310303148, 0.010965053861171945, 0.011608856218048308],\n",
    "    f_hdf5=[0.00019759734808593105, 0.0001917277594274762, 0.00019187614769759206],\n",
    "    allm_csv=[0.032473367710285944, 0.030567587562879587, 0.030007194669973744],\n",
    "    allm_hdf5=[0.0026504991034412, 0.002526046420850444, 0.0027727729989788694],\n",
    ")\n",
    "\n",
    "all_timings"
   ]
  },
  {
   "cell_type": "code",
   "execution_count": null,
   "id": "fb56eff2-b0f1-4be1-91ae-4f277ea44322",
   "metadata": {},
   "outputs": [],
   "source": []
  }
 ],
 "metadata": {
  "kernelspec": {
   "display_name": "Python 3 (ipykernel)",
   "language": "python",
   "name": "python3"
  },
  "language_info": {
   "codemirror_mode": {
    "name": "ipython",
    "version": 3
   },
   "file_extension": ".py",
   "mimetype": "text/x-python",
   "name": "python",
   "nbconvert_exporter": "python",
   "pygments_lexer": "ipython3",
   "version": "3.10.11"
  },
  "widgets": {
   "application/vnd.jupyter.widget-state+json": {
    "state": {},
    "version_major": 2,
    "version_minor": 0
   }
  }
 },
 "nbformat": 4,
 "nbformat_minor": 5
}
