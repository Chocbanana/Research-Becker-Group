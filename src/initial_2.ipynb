{
 "cells": [
  {
   "cell_type": "markdown",
   "id": "675d1711-8d44-435d-b82c-604d3f89b9e9",
   "metadata": {},
   "source": [
    "# Initial Work for Test Network\n"
   ]
  },
  {
   "cell_type": "markdown",
   "id": "6bdde970-c7a3-4fcf-853c-fc567b66fcb5",
   "metadata": {},
   "source": [
    "## Notebook Setup"
   ]
  },
  {
   "cell_type": "markdown",
   "id": "3cbb89a0-3de6-4ccd-be38-f0e118003d14",
   "metadata": {},
   "source": [
    "<div hidden>\n",
    "$\\usepackage{cancel}$\n",
    "$\\usepackage{amssymb}$\n",
    "</div>"
   ]
  },
  {
   "cell_type": "code",
   "execution_count": 9,
   "id": "632eb95f-72f6-4b11-84cd-33e48e92968d",
   "metadata": {},
   "outputs": [],
   "source": [
    "# Required packages\n",
    "#!pip install torch torchvision pandas numpy matplotlib scipy plotly tensorboard onyx"
   ]
  },
  {
   "cell_type": "code",
   "execution_count": 1,
   "id": "0fb475e0-2bfc-4d6a-aa9d-20dbb7eb0712",
   "metadata": {},
   "outputs": [],
   "source": [
    "# Visualize tensorboard in the notebook\n",
    "%load_ext tensorboard\n",
    "# In order to force reload any changes done to the models package files\n",
    "%load_ext autoreload\n",
    "%autoreload 2"
   ]
  },
  {
   "cell_type": "code",
   "execution_count": 3,
   "id": "28295ed2-731a-4b1c-9573-9f19df5f96e9",
   "metadata": {
    "tags": []
   },
   "outputs": [],
   "source": [
    "from models.simpleFork import Simple, Fork\n",
    "\n",
    "import os\n",
    "from collections import namedtuple\n",
    "from timeit import default_timer\n",
    "import re\n",
    "from datetime import datetime\n",
    "\n",
    "import torch\n",
    "import onnx\n",
    "import pandas as pd\n",
    "import numpy as np\n",
    "import matplotlib.pyplot as plt\n",
    "\n",
    "from scipy.linalg import svd, diagsvd\n",
    "\n",
    "from torch import nn\n",
    "from torch.utils.data import Dataset, DataLoader, random_split\n",
    "from torchvision import datasets, transforms\n",
    "from torchvision.io import read_image, ImageReadMode\n",
    "# PyTorch TensorBoard support\n",
    "from torch.utils.tensorboard import SummaryWriter\n",
    "from torch import profiler"
   ]
  },
  {
   "cell_type": "markdown",
   "id": "4c5cde01-0aeb-41f8-8ae3-9bf8c09959e0",
   "metadata": {},
   "source": [
    "### Per-run user defined variables"
   ]
  },
  {
   "cell_type": "code",
   "execution_count": 4,
   "id": "1961e23a-445b-4ba6-ada1-3366473f66c2",
   "metadata": {},
   "outputs": [],
   "source": [
    "# Define the machine being used\n",
    "machine = \"Macbook\"\n",
    "# machine = \"PC\"\n",
    "\n",
    "## FORMAT: {machine}, {model}, {datetime}\n",
    "state_dict_str = \"{}_{}_state-dict_{}.pt\"\n",
    "state_dict_notime = \"{}_{}_state-dict\"\n",
    "checkpoint_dict_str = \"{}_{}_checkpoint_{}.tar\"\n",
    "checkpoint_dict_notime = \"{}_{}_checkpoint\"\n",
    "\n",
    "Checkpoint = namedtuple(\"Checkpoint\", [\"model\", \"epoch\", \"loss\", \"validation_loss\", \"opt_state_dict\"])\n",
    "# data_dir = os.path.join(\"..\", \"data\")\n",
    "# output_dir = os.path.join(data_dir, \"output\")\n",
    "data_dir = os.path.join(\"..\")\n",
    "output_dir = os.path.join(data_dir, \"data\", \"output\")\n"
   ]
  },
  {
   "cell_type": "markdown",
   "id": "ddcf874b-645d-4c00-83cb-3295843464c8",
   "metadata": {},
   "source": [
    "## Data \n",
    "\n",
    "We remove the channels in the images (convert to grayscale) to more closely mimic the actual plasma dataset\n",
    "\n",
    "* [Helpful Link](https://pytorch.org/tutorials/beginner/basics/data_tutorial.html)\n",
    "\n",
    "#### Data Augmentation\n",
    "TODO: Cropping, rotating, scaling, reflecting\n",
    "\n",
    "#### Normalization\n",
    "* Normalize each image with respect to its unit Frobenius norm"
   ]
  },
  {
   "cell_type": "markdown",
   "id": "6d82384c-93c9-4e52-9158-c1ac31218743",
   "metadata": {},
   "source": [
    "### Dataset"
   ]
  },
  {
   "cell_type": "code",
   "execution_count": 5,
   "id": "9ac5eba7-2db9-4725-88b1-5ea6220ff0af",
   "metadata": {},
   "outputs": [],
   "source": [
    "class YtVidsDataset(Dataset):\n",
    "    def __init__(self, img_dir, transform=None):\n",
    "        # self.img_labels = pd.read_csv(annotations_file)\n",
    "        self.img_dir = img_dir\n",
    "        self.transform = transform\n",
    "        \n",
    "        self._folder_name = \"test_imgs\"\n",
    "        self._num_folders = 3\n",
    "        self._image_names = [\"imageA\", \"imageB\", \"imageC\"]\n",
    "        self._folder_lens = [len([f for f in \n",
    "                                    os.listdir(os.path.join(img_dir, self._folder_name + str(i))) if f.endswith(\"jpg\")])\n",
    "                                    for i in range(self._num_folders)]\n",
    "        self._folder_idxs = np.cumsum(self._folder_lens) - 1\n",
    "        self._len = sum(self._folder_lens)\n",
    "\n",
    "\n",
    "    def __len__(self):\n",
    "        return self._len\n",
    "\n",
    "    \n",
    "    def __getitem__(self, idx):\n",
    "        folder_num = np.searchsorted(self._folder_idxs, idx)\n",
    "        img_num = idx if folder_num == 0 else idx - self._folder_idxs[folder_num - 1] - 1\n",
    "        img_path = os.path.join(self.img_dir, self._folder_name + str(folder_num), f\"{self._image_names[folder_num]}_{img_num}.jpg\")\n",
    "        # Load in as a 2d image (no channels)\n",
    "        image = read_image(img_path, mode=ImageReadMode.GRAY)[0, :, :].to(torch.float32)\n",
    "        # Normalize w.r.t. unit Frobenius norm\n",
    "        image = nn.functional.normalize(image, dim=(0, 1))\n",
    "        if self.transform is not None:\n",
    "            image = self.transform(image)\n",
    "        return image\n"
   ]
  },
  {
   "cell_type": "code",
   "execution_count": 6,
   "id": "61ec189b-9ed7-4809-8cec-c7cc75b6b3a8",
   "metadata": {},
   "outputs": [],
   "source": [
    "batch_size = 5\n",
    "\n",
    "# Load and split the data, and prep for being fed into the NN\n",
    "data = YtVidsDataset(data_dir)\n",
    "# Divide data into train, validation, test\n",
    "train_data, validation_data, test_data = random_split(data, [0.7, 0.2, 0.1])\n",
    "train_dataloader = DataLoader(train_data, batch_size=batch_size, shuffle=True, pin_memory=(torch.cuda.is_available()), drop_last=True)\n",
    "validation_dataloader = DataLoader(validation_data, batch_size=batch_size, shuffle=True, pin_memory=(torch.cuda.is_available()), drop_last=True)"
   ]
  },
  {
   "cell_type": "code",
   "execution_count": 7,
   "id": "ab1d863b-d541-4b73-aa75-ce19a38c8b05",
   "metadata": {},
   "outputs": [
    {
     "name": "stdout",
     "output_type": "stream",
     "text": [
      "6741 <class 'torch.Tensor'> torch.Size([54, 96])\n",
      "tensor([[0.0160, 0.0155, 0.0152,  ..., 0.0163, 0.0162, 0.0162],\n",
      "        [0.0156, 0.0158, 0.0155,  ..., 0.0160, 0.0159, 0.0158],\n",
      "        [0.0148, 0.0154, 0.0150,  ..., 0.0158, 0.0157, 0.0156],\n",
      "        ...,\n",
      "        [0.0147, 0.0146, 0.0145,  ..., 0.0140, 0.0136, 0.0141],\n",
      "        [0.0147, 0.0146, 0.0145,  ..., 0.0140, 0.0136, 0.0141],\n",
      "        [0.0146, 0.0146, 0.0145,  ..., 0.0140, 0.0136, 0.0142]])\n"
     ]
    },
    {
     "data": {
      "image/png": "[encoded data removed]",
      "text/plain": [
       "<Figure size 640x480 with 1 Axes>"
      ]
     },
     "metadata": {},
     "output_type": "display_data"
    }
   ],
   "source": [
    "plt.imshow(data[2000])\n",
    "print(len(data), type(data[0]), data[244].shape)\n",
    "print(data[2000])"
   ]
  },
  {
   "attachments": {},
   "cell_type": "markdown",
   "id": "e8fd5925-3dde-43fb-bb48-cb34a28179f3",
   "metadata": {},
   "source": [
    "## Hyperparameters\n",
    "\n",
    "\n",
    "### Structure\n",
    "\n",
    "\n",
    "#### From papers\n",
    "* **Non-alternating/nonnegative Matrix Factorization (NMF)**: Classical deep NMF for a non-negative matrix X ∈ Rm×n + can be described as follows: first, X is decomposed as X ≈ U0V 0 where U 0 ∈ Rm×r0 +  and V 0 ∈ Rr0×n + . The coding matrix V 0 is then further decomposed as V 0 ≈ U 1V 1 where U 1 ∈ Rr0×r1 +  and V 1 ∈ Rr1×n +. The procedure is repeated until a pre-fixed number of layers is reached. [[2]](#r2)\n",
    "* **deep alternating non-negative matrix factorisation (DA-NMF)**: we propose to factorise the basis and coding matrices in an alternating order along the layers. [[2]](#r2)\n",
    "    * Uses approx 6-8 layers\n",
    "\n",
    "<img src=\"images/r2_fig1.png\" alt=\"Drawing\" style=\"width: 400px;\"/>\n",
    "<!-- ![image.png](images/r2_fig1.png) -->\n",
    "\n",
    "\n",
    "### L-System\n",
    "* Using L (Lindenmayer) Systems to define strucure?\n",
    "* Node types:\n",
    "    * Terminating (1 -> 0)\n",
    "    * Splitting (1 -> 2)\n",
    "    * Unifying (2 ->1)\n",
    "    * Direct (1 -> 1)\n",
    "    * Starting (0 -> 1)\n",
    "\n",
    "\n",
    "### Loss Function\n",
    "We use methods defined in [[1]](#r1) to define our loss function <!-- $\\mathcal{L}$ \\\\ -->\n",
    "\n",
    "$$\n",
    "\\min_{\\substack{U \\in \\real^{m\\times r} \\\\ V \\in \\real^{r\\times n}}} ||X - ReLU(UV)||^2_F ,\n",
    "$$\n",
    "Where we are finding the square Frobenius norm of the difference between the original matrix $X$ and the rectified linear low rank representation matrices $UV$\n",
    "\n",
    "#### From paper\n",
    "\n",
    "Eq. 10-11 [[2]](#r2)\n",
    "\n",
    "TODO\n",
    "\n",
    "\n",
    "### Optimizer\n",
    "\n",
    "Adam?\n",
    "\n",
    "\n",
    "\n",
    "## TODO\n",
    "\n",
    "* compare against SVD 4, using rank 6 for NN (or bigger)\n",
    "* Use a different algo where we pre-give the rank, better alg: `scipy.sparse.linalg.svds`, tol=0.001\n",
    "* Go as big as I can, log space increase in size\n",
    "* Warm starting (initializing) the SVD algorithm, using the NN for the warm start\n",
    "    * `scipy.linalg.qr`\n",
    "    * Randomized Numerical Linear Algebra: Foundations & Algorithms (Per-Gunnar Martinsson, University of Texas at Austin Joel A. Tropp, California Institute of Technology)\n",
    "* Compare rank vs err (loss) for SVD vs NN, and see how many more ranks it is to get comparable err\n"
   ]
  },
  {
   "cell_type": "markdown",
   "id": "7e88ef72-8831-4488-9a7a-4211d0c43296",
   "metadata": {},
   "source": [
    "## Model Definition"
   ]
  },
  {
   "cell_type": "markdown",
   "id": "efebd7fd-b883-464c-82ae-e10f5ef35163",
   "metadata": {},
   "source": [
    "### General params"
   ]
  },
  {
   "cell_type": "code",
   "execution_count": 8,
   "id": "93616b48-16f1-4a4e-ac2f-a7c671d6dc9c",
   "metadata": {},
   "outputs": [
    {
     "name": "stdout",
     "output_type": "stream",
     "text": [
      "Using cpu device\n"
     ]
    }
   ],
   "source": [
    "# Select device to use for compute power\n",
    "device = (\n",
    "    \"cuda\"\n",
    "    if torch.cuda.is_available()\n",
    "    # else \"mps\"\n",
    "    # if torch.backends.mps.is_available()\n",
    "    else \"cpu\"\n",
    ")\n",
    "print(f\"Using {device} device\")\n",
    "use_cuda = device == \"cuda\"\n",
    "\n",
    "# Params\n",
    "img_size = (54, 96)\n",
    "rank = 6"
   ]
  },
  {
   "cell_type": "markdown",
   "id": "3f9e9a56-ae04-4ebd-b8f4-7807741360b9",
   "metadata": {},
   "source": [
    "### Various Models"
   ]
  },
  {
   "cell_type": "code",
   "execution_count": 9,
   "id": "08312dea-83eb-49ad-8435-b83f01c97be3",
   "metadata": {},
   "outputs": [],
   "source": [
    "class SimpleNeg(nn.Module):\n",
    "    \"\"\" Model allowing negative values, same structure as Simple (fork at last layer)\n",
    "    \"\"\"\n",
    "    def __init__(self):\n",
    "        super().__init__()\n",
    "        \n",
    "        self.input = nn.Flatten(start_dim=1)\n",
    "\n",
    "        self.seq = nn.Sequential(nn.Sequential(nn.Linear(np.prod(img_size), layer_dims[0]), nn.Tanh()))\n",
    "        for i, r in enumerate(layer_dims[1:]):\n",
    "            self.seq = self.seq.append(nn.Sequential(nn.Linear(layer_dims[i], r), nn.Tanh()))\n",
    "        \n",
    "        self.U = nn.Sequential(nn.Linear(layer_dims[-1], img_size[0] * rank),\n",
    "                               nn.Unflatten(1, (img_size[0], rank)),\n",
    "                               nn.Tanh())\n",
    "        self.V = nn.Sequential(nn.Linear(layer_dims[-1], rank * img_size[1] ),\n",
    "                               nn.Unflatten(1, (rank, img_size[1])),\n",
    "                               nn.Tanh())\n",
    "\n",
    "    def get_hyperparameters():\n",
    "        return dict(\n",
    "            layer_dims = layer_dims,\n",
    "            rank = layer_dims[-1],\n",
    "            img_size = img_size,\n",
    "            desc = \"Allows negative values, same structure as Simple (fork at last layer)\"\n",
    "        )\n",
    "        \n",
    "    def forward(self, x):\n",
    "        input = self.input(x)\n",
    "        seq_output = self.seq(input)\n",
    "        \n",
    "        U = self.U(seq_output)\n",
    "        V = self.V(seq_output)\n",
    "\n",
    "        return U, V\n"
   ]
  },
  {
   "cell_type": "markdown",
   "id": "236983ec-d821-4400-a953-f8308c893d4e",
   "metadata": {},
   "source": [
    "### Model: Variations\n",
    "\n",
    "TODO:\n",
    "* ~Simple with no nonnegativity constraints (sigmoid activation)~\n",
    "    * ~Allow negativity at every step except after UV, aka ReLU(UV) or |UV| (relu better)~\n",
    "* Different activation layers\n",
    "* Different structure\n",
    "    * Try forking at beginning\n",
    "* Define new layer\n",
    "    * Instead of flattening and using a linear layer, doing a either side multiply of the matrix input: A\\*X\\*B where A: n_1 x m, X: m x n, B: n x n_2\n",
    "* try 2d convolutional layers"
   ]
  },
  {
   "cell_type": "code",
   "execution_count": 10,
   "id": "8348b213-00cf-4b74-9618-6258f0294c2b",
   "metadata": {},
   "outputs": [
    {
     "name": "stdout",
     "output_type": "stream",
     "text": [
      "Fork(\n",
      "  (input): Flatten(start_dim=1, end_dim=-1)\n",
      "  (seq): Sequential(\n",
      "    (0): Sequential(\n",
      "      (0): Linear(in_features=5184, out_features=500, bias=True)\n",
      "      (1): Tanh()\n",
      "    )\n",
      "    (1): Sequential(\n",
      "      (0): Linear(in_features=500, out_features=400, bias=True)\n",
      "      (1): Tanh()\n",
      "    )\n",
      "    (2): Sequential(\n",
      "      (0): Linear(in_features=400, out_features=300, bias=True)\n",
      "      (1): Tanh()\n",
      "    )\n",
      "    (3): Sequential(\n",
      "      (0): Linear(in_features=300, out_features=200, bias=True)\n",
      "      (1): Tanh()\n",
      "    )\n",
      "  )\n",
      "  (U): Sequential(\n",
      "    (0): Sequential(\n",
      "      (0): Linear(in_features=200, out_features=300, bias=True)\n",
      "      (1): Tanh()\n",
      "    )\n",
      "    (1): Sequential(\n",
      "      (0): Linear(in_features=300, out_features=200, bias=True)\n",
      "      (1): Tanh()\n",
      "    )\n",
      "    (2): Sequential(\n",
      "      (0): Linear(in_features=200, out_features=100, bias=True)\n",
      "      (1): Tanh()\n",
      "    )\n",
      "    (3): Sequential(\n",
      "      (0): Linear(in_features=100, out_features=100, bias=True)\n",
      "      (1): Tanh()\n",
      "    )\n",
      "    (4): Sequential(\n",
      "      (0): Linear(in_features=100, out_features=324, bias=True)\n",
      "      (1): Unflatten(dim=1, unflattened_size=(54, 6))\n",
      "      (2): Tanh()\n",
      "    )\n",
      "  )\n",
      "  (V): Sequential(\n",
      "    (0): Sequential(\n",
      "      (0): Linear(in_features=200, out_features=300, bias=True)\n",
      "      (1): Tanh()\n",
      "    )\n",
      "    (1): Sequential(\n",
      "      (0): Linear(in_features=300, out_features=200, bias=True)\n",
      "      (1): Tanh()\n",
      "    )\n",
      "    (2): Sequential(\n",
      "      (0): Linear(in_features=200, out_features=100, bias=True)\n",
      "      (1): Tanh()\n",
      "    )\n",
      "    (3): Sequential(\n",
      "      (0): Linear(in_features=100, out_features=100, bias=True)\n",
      "      (1): Tanh()\n",
      "    )\n",
      "    (4): Sequential(\n",
      "      (0): Linear(in_features=100, out_features=576, bias=True)\n",
      "      (1): Unflatten(dim=1, unflattened_size=(6, 96))\n",
      "      (2): Tanh()\n",
      "    )\n",
      "  )\n",
      ")\n",
      "Fork {'stem_layer_dims': tensor([500., 400., 300., 200.]), 'fork_layer_dims': tensor([300., 200., 100., 100.]), 'rank': 6, 'img_size': tensor([54., 96.]), 'desc': 'Linear layers that fork into two separate channels for U, V'}\n"
     ]
    }
   ],
   "source": [
    "layer_dims = (500, 400, 300, 200, 100, 100)\n",
    "# model_neg = SimpleNeg().to(device)\n",
    "# print(model_neg, model_simple)\n",
    "# model_simple = Simple(layer_dims=layer_dims).to(device)\n",
    "# print(model_simple)\n",
    "# print(model_simple.get_name(), model_simple.get_hyperparameters())\n",
    "\n",
    "model_fork = Fork().to(device)\n",
    "print(model_fork)\n",
    "print(model_fork.get_name(), model_fork.get_hyperparameters())"
   ]
  },
  {
   "cell_type": "code",
   "execution_count": 19,
   "id": "0acd6042-25c9-46e1-a011-1f44b21095aa",
   "metadata": {},
   "outputs": [
    {
     "data": {
      "text/plain": [
       "['.DS_Store',\n",
       " 'LICENSE',\n",
       " 'test_imgs2',\n",
       " 'README.md',\n",
       " '.gitignore',\n",
       " '.git',\n",
       " '-svasudevanmbp.gitignore',\n",
       " 'data',\n",
       " 'test_imgs1',\n",
       " 'test_imgs0',\n",
       " 'src']"
      ]
     },
     "execution_count": 19,
     "metadata": {},
     "output_type": "execute_result"
    }
   ],
   "source": [
    "# datetime.now().strftime('%Y-%m-%d_%H:%M:%S')\n",
    "# next((x for x in sorted(os.listdir(data_dir + \"/test_imgs1\")) if x.startswith(\"image\")), None)\n",
    "os.listdir(data_dir)\n",
    "# mname = model_neg.__class__.__name__\n",
    "# checkpoint_dict_notime.format(machine=\"fff\", model=mname)\n",
    "# datetime.now().strftime('%Y-%m-%d_%H%M%S')"
   ]
  },
  {
   "cell_type": "markdown",
   "id": "007b8e09-cb6c-463b-bb87-53075242492b",
   "metadata": {},
   "source": [
    "#### DANMF Implementation"
   ]
  },
  {
   "cell_type": "code",
   "execution_count": 20,
   "id": "22807a4c-7d8f-4340-96af-848695c80b6d",
   "metadata": {
    "scrolled": true,
    "tags": []
   },
   "outputs": [
    {
     "name": "stdout",
     "output_type": "stream",
     "text": [
      "DANMF(\n",
      "  (input): Flatten(start_dim=1, end_dim=-1)\n",
      "  (U): ModuleDict(\n",
      "    (0): Sequential(\n",
      "      (0): Linear(in_features=5184, out_features=8100, bias=True)\n",
      "      (1): Unflatten(dim=1, unflattened_size=(54, 150))\n",
      "      (2): ReLU()\n",
      "    )\n",
      "    (2): Sequential(\n",
      "      (0): Linear(in_features=15000, out_features=10500, bias=True)\n",
      "      (1): Unflatten(dim=1, unflattened_size=(150, 70))\n",
      "      (2): ReLU()\n",
      "    )\n",
      "    (4): Sequential(\n",
      "      (0): Linear(in_features=3500, out_features=2100, bias=True)\n",
      "      (1): Unflatten(dim=1, unflattened_size=(70, 30))\n",
      "      (2): ReLU()\n",
      "    )\n",
      "    (5): Sequential(\n",
      "      (0): Linear(in_features=1500, out_features=300, bias=True)\n",
      "      (1): Unflatten(dim=1, unflattened_size=(30, 10))\n",
      "      (2): ReLU()\n",
      "    )\n",
      "  )\n",
      "  (V): ModuleDict(\n",
      "    (1): Sequential(\n",
      "      (0): Linear(in_features=14400, out_features=9600, bias=True)\n",
      "      (1): Unflatten(dim=1, unflattened_size=(100, 96))\n",
      "      (2): ReLU()\n",
      "    )\n",
      "    (3): Sequential(\n",
      "      (0): Linear(in_features=7000, out_features=5000, bias=True)\n",
      "      (1): Unflatten(dim=1, unflattened_size=(50, 100))\n",
      "      (2): ReLU()\n",
      "    )\n",
      "    (5): Sequential(\n",
      "      (0): Linear(in_features=1500, out_features=500, bias=True)\n",
      "      (1): Unflatten(dim=1, unflattened_size=(10, 50))\n",
      "      (2): ReLU()\n",
      "    )\n",
      "  )\n",
      "  (seq): ModuleList(\n",
      "    (0): Sequential(\n",
      "      (0): Linear(in_features=5184, out_features=14400, bias=True)\n",
      "      (1): ReLU()\n",
      "    )\n",
      "    (1): Sequential(\n",
      "      (0): Linear(in_features=14400, out_features=15000, bias=True)\n",
      "      (1): ReLU()\n",
      "    )\n",
      "    (2): Sequential(\n",
      "      (0): Linear(in_features=15000, out_features=7000, bias=True)\n",
      "      (1): ReLU()\n",
      "    )\n",
      "    (3): Sequential(\n",
      "      (0): Linear(in_features=7000, out_features=3500, bias=True)\n",
      "      (1): ReLU()\n",
      "    )\n",
      "    (4): Sequential(\n",
      "      (0): Linear(in_features=3500, out_features=1500, bias=True)\n",
      "      (1): ReLU()\n",
      "    )\n",
      "  )\n",
      ")\n"
     ]
    }
   ],
   "source": [
    "# Must be even number of layers\n",
    "# layer_dims = (300, 200, 150, 100, 40, 20)\n",
    "\n",
    "layer_dims = (150, 100, 70, 50, 30, 10)\n",
    "\n",
    "class DANMF(nn.Module):\n",
    "    def __init__(self):\n",
    "        super().__init__()\n",
    "        \n",
    "        self.input = nn.Flatten(start_dim=1)\n",
    "        \n",
    "        self.U = nn.ModuleDict()\n",
    "        self.V = nn.ModuleDict()\n",
    "        self.seq = nn.ModuleList()\n",
    "        \n",
    "        for i, r in enumerate(layer_dims):\n",
    "            if (i % 2 == 0): # Even layers\n",
    "                if (i == 0):\n",
    "                    prev = img_size\n",
    "                    new_V = (r, img_size[1])\n",
    "                    new_U = (img_size[0], r)\n",
    "                else:\n",
    "                    prev = (layer_dims[i-2], layer_dims[i-1])\n",
    "                    new_V = (r, layer_dims[i-1])\n",
    "                    new_U = (layer_dims[i-2], r)\n",
    "                self.seq = self.seq.append(nn.Sequential(nn.Linear(np.prod(prev), np.prod(new_V)), nn.ReLU()))\n",
    "                self.U.update({str(i): nn.Sequential(nn.Linear(np.prod(prev), np.prod(new_U)),\n",
    "                                                 nn.Unflatten(1, new_U),\n",
    "                                                 nn.ReLU()\n",
    "                                                )})\n",
    "            else:\n",
    "                if (i == len(layer_dims) - 1):\n",
    "                    self.U.update({str(i): nn.Sequential(nn.Linear(layer_dims[i-1] * layer_dims[i-2], layer_dims[i-1] * r),\n",
    "                                                     nn.Unflatten(1, (layer_dims[i-1], r)),\n",
    "                                                     nn.ReLU()\n",
    "                                                    )})\n",
    "                    self.V.update({str(i): nn.Sequential(nn.Linear(layer_dims[i-1] * layer_dims[i-2], r * layer_dims[i-2]),\n",
    "                                                     nn.Unflatten(1, (r, layer_dims[i-2])),\n",
    "                                                     nn.ReLU()\n",
    "                                                    )})\n",
    "                else:\n",
    "                    if (i == 1):\n",
    "                        prev = (layer_dims[i-1], img_size[1])\n",
    "                        new_U = (layer_dims[i-1], r)\n",
    "                        new_V = (r, img_size[1])\n",
    "                    else:\n",
    "                        prev = (layer_dims[i-1], layer_dims[i-2])\n",
    "                        new_U = (layer_dims[i-1], r)\n",
    "                        new_V = (r, layer_dims[i-2])\n",
    "                        \n",
    "                    self.seq = self.seq.append(nn.Sequential(nn.Linear(np.prod(prev), np.prod(new_U)), nn.ReLU()))\n",
    "                    self.V.update({str(i): nn.Sequential(nn.Linear(np.prod(prev), np.prod(new_V)),\n",
    "                                                     nn.Unflatten(1, new_V),\n",
    "                                                     nn.ReLU()\n",
    "                                                    )})\n",
    "\n",
    "    def get_hyperparameters():\n",
    "        return dict(\n",
    "            layer_dims = layer_dims,\n",
    "            rank = layer_dims[-1],\n",
    "            img_size = img_size,\n",
    "            desc = \"Implementation of DA-NMF\"\n",
    "        )\n",
    "        \n",
    "    def forward(self, x):\n",
    "        input = self.input(x)\n",
    "        x = input\n",
    "        \n",
    "        seq_outputs = {}\n",
    "        for i, layer in enumerate(self.seq):\n",
    "            x = layer(x)\n",
    "            seq_outputs[i] = x\n",
    "\n",
    "        U = self.U[\"0\"](input)\n",
    "        U_outputs = [U] # Input for U_0 is the original img\n",
    "        for i in self.U:\n",
    "            if i == \"0\":\n",
    "                continue\n",
    "            Uy = self.U[i](seq_outputs[int(i) - 1])\n",
    "            U = torch.bmm(U, Uy)\n",
    "            U_outputs.append(Uy)\n",
    "\n",
    "        V_outputs = []\n",
    "        for i in self.V: \n",
    "            V_outputs.append(self.V[i](seq_outputs[int(i) - 1]))\n",
    "\n",
    "        # We multiply Vs in reverse\n",
    "        V_outputs = V_outputs[-1::-1]\n",
    "        V = V_outputs[0]\n",
    "        for Vy in V_outputs[1:]:\n",
    "            V = torch.bmm(V, Vy)\n",
    "            \n",
    "        return U, V\n",
    "    \n",
    "model_danmf = DANMF().to(device)\n",
    "print(model_danmf)\n"
   ]
  },
  {
   "cell_type": "markdown",
   "id": "47453944-254c-480c-8f73-e7653132b7cc",
   "metadata": {},
   "source": [
    "## Running the model"
   ]
  },
  {
   "cell_type": "markdown",
   "id": "6731c8b9-2373-4ed4-92c7-102b9155912c",
   "metadata": {},
   "source": [
    "### Save/Load checkpoints"
   ]
  },
  {
   "cell_type": "code",
   "execution_count": 27,
   "id": "5809c5ae-84ee-43af-aac5-725596decbea",
   "metadata": {},
   "outputs": [],
   "source": [
    "def load_checkpoint(mname, machine, checkpoint_str=checkpoint_dict_notime, statedict_str=state_dict_notime):\n",
    "    checkpoint_dict, statedict = (None, None)\n",
    "    \n",
    "    if checkpoint_str:\n",
    "        name_checkpoint = checkpoint_dict_notime.format(machine, mname)\n",
    "        file_checkpoint = next((x for x in sorted(os.listdir(output_dir)) if x.startswith(name_checkpoint)), None)\n",
    "        if file_checkpoint:\n",
    "            print(f\"Found checkpoint to load. Using: {file_checkpoint}\")\n",
    "            checkpoint_dict = torch.load(os.path.join(output_dir, file_checkpoint))\n",
    "\n",
    "    if statedict_str:  \n",
    "        name_statedict = state_dict_notime.format(machine, mname)\n",
    "        file_statedict = next((x for x in sorted(os.listdir(output_dir)) if x.startswith(name_statedict)), None)\n",
    "        if file_statedict:\n",
    "            print(f\"Found model state dict to load. Using: {file_statedict}\")\n",
    "            statedict = torch.load(os.path.join(output_dir, file_statedict))\n",
    "            \n",
    "    return checkpoint_dict, statedict"
   ]
  },
  {
   "cell_type": "markdown",
   "id": "2cefc746-fea1-4a25-8d25-dfa204df7cfe",
   "metadata": {},
   "source": [
    "### Training"
   ]
  },
  {
   "cell_type": "code",
   "execution_count": 32,
   "id": "34bde206-f104-482e-9ebc-deffcb50af06",
   "metadata": {},
   "outputs": [],
   "source": [
    "######## TODO: time and save timings of each epoch!!! #########\n",
    "\n",
    "\n",
    "def loss_fcn(X, U, V):\n",
    "    return torch.mean(\n",
    "            torch.square(\n",
    "                torch.linalg.matrix_norm(X - nn.functional.relu(torch.bmm(U, V)),\n",
    "                # Don't enforce non-negativity on UV?\n",
    "                # torch.linalg.matrix_norm(X - torch.bmm(U, V), \n",
    "                                         ord='fro')))\n",
    "\n",
    "\n",
    "def train_model(epochs, model, optimizer, checkpoint_at = 3, load = True, batch_pr = 200, writer=None, profiler=None): # loop over the dataset multiple times\n",
    "    mname = model.get_name()\n",
    "    start_epoch = -1\n",
    "\n",
    "    print(f\"Training {mname}\")\n",
    "    \n",
    "    # Attempt to load the previous checkpoint\n",
    "    if load:\n",
    "        checkpoint, statedict = load_checkpoint(mname, machine)\n",
    "        if checkpoint and statedict:\n",
    "            start_epoch = checkpoint[\"epoch\"]\n",
    "            optimizer.load_state_dict(checkpoint[\"opt_state_dict\"])\n",
    "            model.load_state_dict(statedict)\n",
    "        else:\n",
    "            print(\"No checkpoint found to load. Using base model\")\n",
    "            \n",
    "\n",
    "    # Save basic hyperparams\n",
    "    if writer:\n",
    "        writer.add_hparams(model.get_hyperparameters(), {})\n",
    "        writer.flush()\n",
    "\n",
    "    loss_arr = []\n",
    "    validation_arr = []\n",
    "    running_loss = 0.0\n",
    "    for e in range(start_epoch+1, start_epoch+1 + epochs ):\n",
    "        model.train()\n",
    "        running_loss = 0.0\n",
    "        \n",
    "        for i, data in enumerate(train_dataloader, 0):\n",
    "            data = data.to(device)\n",
    "\n",
    "            # Write out a view of the NN graph, just once\n",
    "            if writer and e == 0 and i == 0:\n",
    "                writer.add_graph(model, data)\n",
    "                writer.flush()\n",
    "                torch.onnx.export(model, data, os.path.join(output_dir, f'{mname}_model.onnx'), input_names=[\"matrix\"], output_names=[\"V\", \"U\"])\n",
    "            \n",
    "            # zero the parameter gradients\n",
    "            optimizer.zero_grad()\n",
    "            # forward + backward + optimize\n",
    "            U, V = model(data)\n",
    "            # Loss function\n",
    "            loss = loss_fcn(data, U, V)\n",
    "            running_loss += loss.item()\n",
    "            loss.backward()\n",
    "            optimizer.step()\n",
    "\n",
    "            # Print and save statistics\n",
    "            if i % batch_pr == batch_pr - 1:    # print every 200 mini-batches\n",
    "                avg_loss = running_loss / batch_pr \n",
    "                loss_arr.append(avg_loss)\n",
    "                \n",
    "                # Determine validation loss\n",
    "                model.eval()\n",
    "                model.train(False)\n",
    "                v_arr = []\n",
    "                for v_data in validation_dataloader:\n",
    "                    v_data = v_data.to(device)\n",
    "                    U_v, V_v = model(v_data)\n",
    "                    v_arr.append(loss_fcn(v_data, U_v, V_v).item())\n",
    "                validation_arr.append(np.mean(v_arr))\n",
    "                model.train(True)\n",
    "\n",
    "                # Write out stats\n",
    "                print(f\"[{e}, {i+1}] loss: {avg_loss}, validation loss: {validation_arr[-1]}\")\n",
    "                if writer:\n",
    "                    writer.add_scalars('Training vs. Validation Loss',\n",
    "                            { 'Training' : avg_loss, 'Validation' : validation_arr[-1] },\n",
    "                            e * len(train_dataloader) + i)\n",
    "                    writer.flush()\n",
    "\n",
    "                running_loss = 0.0\n",
    "\n",
    "            if profiler:\n",
    "                profiler.step()\n",
    "        \n",
    "        # Save output to checkpoint dict\n",
    "        if e % checkpoint_at == checkpoint_at - 1:\n",
    "            dt = datetime.now().strftime('%Y-%m-%d_%H%M%S')\n",
    "            save = Checkpoint(mname, e, loss_arr, validation_arr, optimizer.state_dict())._asdict()\n",
    "            torch.save(save, os.path.join(output_dir, checkpoint_dict_str.format(machine, mname, dt)))\n",
    "            torch.save(model.state_dict(), os.path.join(output_dir, state_dict_str.format(machine, mname, dt)))\n",
    "            print(f\"Saved checkpoint for epoch {e}: {machine}_{mname}\")\n",
    "            loss_arr = []\n",
    "            validation_arr = []\n",
    "    \n",
    "    print('Finished Training')\n",
    "\n",
    "# TODO: Pad input when not enough imgs for batch \n",
    "##  torch.nn.functional.pad(input, pad, mode='constant', value=None) → Tensor\n",
    "\n",
    "def trace_handler(prof):\n",
    "    table = prof.key_averages().table(sort_by=\"self_cuda_time_total\" if use_cuda else \"self_cpu_time_total\", row_limit=50)\n",
    "    print(table)\n",
    "    ff = prof.key_averages()\n",
    "    df_table = pd.DataFrame(ff)\n",
    "    print(df_table)\n",
    "    df_table.to_csv(\"tst.csv\")\n",
    "    \n",
    "    ## TODO: save to file, and tensorboard"
   ]
  },
  {
   "cell_type": "code",
   "execution_count": 33,
   "id": "df346cd8-400c-4862-a208-c0240bf79bf6",
   "metadata": {
    "scrolled": true
   },
   "outputs": [
    {
     "name": "stdout",
     "output_type": "stream",
     "text": [
      "Training Fork\n",
      "Found checkpoint to load. Using: Macbook_Fork_checkpoint_2023-11-09_145244.tar\n",
      "Found model state dict to load. Using: Macbook_Fork_state-dict_2023-11-09_145244.pt\n"
     ]
    },
    {
     "name": "stderr",
     "output_type": "stream",
     "text": [
      "STAGE:2023-11-15 13:36:48 61442:11671887 ActivityProfilerController.cpp:312] Completed Stage: Warm Up\n",
      "STAGE:2023-11-15 13:37:17 61442:11671887 ActivityProfilerController.cpp:318] Completed Stage: Collection\n",
      "STAGE:2023-11-15 13:37:17 61442:11671887 ActivityProfilerController.cpp:322] Completed Stage: Post Processing\n"
     ]
    },
    {
     "name": "stdout",
     "output_type": "stream",
     "text": [
      "-------------------------------------------------------  ------------  ------------  ------------  ------------  ------------  ------------  ------------  ------------  \n",
      "                                                   Name    Self CPU %      Self CPU   CPU total %     CPU total  CPU time avg       CPU Mem  Self CPU Mem    # of Calls  \n",
      "-------------------------------------------------------  ------------  ------------  ------------  ------------  ------------  ------------  ------------  ------------  \n",
      "                                        aten::from_file        99.75%       28.382s        99.75%       28.382s        2.838s      31.19 Kb      31.19 Kb            10  \n",
      "                                       image::read_file         0.04%      12.488ms        99.80%       28.395s        2.839s      31.19 Kb           0 b            10  \n",
      "                               Optimizer.step#Adam.step         0.02%       6.368ms         0.10%      28.643ms      14.322ms           0 b     -51.36 Mb             2  \n",
      "                                          ProfilerStep*         0.02%       5.602ms       100.00%       28.452s       14.226s       3.03 Mb    -478.06 Kb             2  \n",
      "                                               aten::mm         0.02%       4.343ms         0.02%       4.343ms      80.426us      25.76 Mb      25.41 Mb            54  \n",
      "                                         aten::addcdiv_         0.01%       4.249ms         0.01%       4.249ms      75.875us           0 b           0 b            56  \n",
      "                                    image::decode_image         0.01%       4.077ms         0.01%       4.206ms     420.600us      50.62 Kb           0 b            10  \n",
      "                                              aten::div         0.01%       4.067ms         0.02%       4.390ms      62.714us      26.07 Mb      26.07 Mb            70  \n",
      "enumerate(DataLoader)#_SingleProcessDataLoaderIter._...         0.01%       3.233ms        99.83%       28.403s       14.201s     202.50 Kb    -507.15 Kb             2  \n",
      "                                            aten::lerp_         0.01%       3.133ms         0.01%       3.133ms      55.946us           0 b           0 b            56  \n",
      "                                             aten::sqrt         0.01%       3.072ms         0.01%       3.072ms      54.857us      25.68 Mb      25.68 Mb            56  \n",
      "                                            aten::addmm         0.01%       3.009ms         0.01%       3.159ms     112.821us     144.53 Kb     144.53 Kb            28  \n",
      "                     Optimizer.zero_grad#Adam.zero_grad         0.01%       2.703ms         0.01%       2.703ms       1.351ms     -22.77 Mb     -22.77 Mb             2  \n",
      "                                         aten::addcmul_         0.01%       2.556ms         0.01%       2.556ms      45.643us           0 b           0 b            56  \n",
      "                                             aten::add_         0.01%       2.048ms         0.01%       2.694ms      23.632us         -32 b        -552 b           114  \n",
      "                                             aten::mul_         0.01%       1.996ms         0.01%       2.262ms      40.393us           8 b        -256 b            56  \n",
      "                                              aten::bmm         0.00%     820.000us         0.00%     820.000us     136.667us     237.66 Kb     237.66 Kb             6  \n",
      "                                             aten::tanh         0.00%     605.000us         0.00%     605.000us      21.607us     144.53 Kb     144.53 Kb            28  \n",
      "                                         aten::_to_copy         0.00%     534.000us         0.00%       1.137ms       4.698us     203.41 Kb         -24 b           242  \n",
      "                                            aten::copy_         0.00%     475.000us         0.00%     475.000us       1.746us          92 b          92 b           272  \n",
      "      autograd::engine::evaluate_function: BmmBackward0         0.00%     368.000us         0.00%       1.072ms     536.000us    -167.34 Kb    -202.50 Kb             2  \n",
      "                                                aten::t         0.00%     353.000us         0.00%     548.000us       3.971us           0 b           0 b           138  \n",
      "    autograd::engine::evaluate_function: AddmmBackward0         0.00%     314.000us         0.02%       5.503ms     196.536us      25.65 Mb    -148.44 Kb            28  \n",
      "                                    aten::empty_strided         0.00%     289.000us         0.00%     289.000us       1.184us     203.35 Kb     203.35 Kb           244  \n",
      "                                               aten::to         0.00%     288.000us         0.00%       1.299ms       5.238us     203.41 Kb      20.39 Kb           248  \n",
      "                                         AddmmBackward0         0.00%     287.000us         0.02%       4.880ms     174.286us      25.76 Mb           0 b            28  \n",
      "                                              aten::sum         0.00%     248.000us         0.00%     270.000us       9.000us      28.91 Kb      28.91 Kb            30  \n",
      "                                        aten::transpose         0.00%     167.000us         0.00%     211.000us       1.486us           0 b           0 b           142  \n",
      "                                    aten::tanh_backward         0.00%     147.000us         0.00%     147.000us       5.250us     144.53 Kb     144.53 Kb            28  \n",
      "                               aten::linalg_vector_norm         0.00%     143.000us         0.00%     144.000us      12.000us          80 b          80 b            12  \n",
      "                                           aten::linear         0.00%     134.000us         0.01%       3.451ms     123.250us     144.53 Kb       8.28 Kb            28  \n",
      "autograd::engine::evaluate_function: torch::autograd...         0.00%     120.000us         0.00%     351.000us       6.268us           0 b           0 b            56  \n",
      "                        torch::autograd::AccumulateGrad         0.00%     118.000us         0.00%     239.000us       4.268us           0 b           0 b            56  \n",
      "                                             aten::view         0.00%     102.000us         0.00%     102.000us       2.550us           0 b           0 b            40  \n",
      "     autograd::engine::evaluate_function: TanhBackward0         0.00%     102.000us         0.00%     335.000us      11.964us    -109.38 Kb    -255.86 Kb            28  \n",
      "                                          TanhBackward0         0.00%      86.000us         0.00%     230.000us       8.214us     144.53 Kb       1.95 Kb            28  \n",
      "                                        aten::clamp_min         0.00%      79.000us         0.00%      79.000us       6.583us     202.54 Kb     202.54 Kb            12  \n",
      "                                           aten::expand         0.00%      78.000us         0.00%      85.000us       2.125us           0 b           0 b            40  \n",
      "                                             aten::item         0.00%      73.000us         0.00%      81.000us       1.397us           0 b           0 b            58  \n",
      "                                     aten::masked_fill_         0.00%      72.000us         0.00%      72.000us      36.000us           0 b           0 b             2  \n",
      "                                                 detach         0.00%      72.000us         0.00%      72.000us       1.286us           0 b           0 b            56  \n",
      "                                       aten::as_strided         0.00%      68.000us         0.00%      68.000us       0.291us           0 b           0 b           234  \n",
      "                                           aten::select         0.00%      66.000us         0.00%      66.000us       6.600us           0 b           0 b            10  \n",
      "                                          aten::permute         0.00%      63.000us         0.00%      74.000us       7.400us           0 b           0 b            10  \n",
      "        autograd::engine::evaluate_function: TBackward0         0.00%      63.000us         0.00%     184.000us       6.571us           0 b           0 b            28  \n",
      "                                            aten::empty         0.00%      55.000us         0.00%      55.000us       5.500us      50.62 Kb      50.62 Kb            10  \n",
      "                                              aten::mul         0.00%      54.000us         0.00%      62.000us      10.333us     202.58 Kb     202.57 Kb             6  \n",
      "                                           aten::detach         0.00%      49.000us         0.00%     113.000us       2.018us           0 b           0 b            56  \n",
      "                                              aten::sub         0.00%      44.000us         0.00%      44.000us      22.000us     202.50 Kb     202.50 Kb             2  \n",
      "                              LinalgVectorNormBackward0         0.00%      44.000us         0.00%     220.000us     110.000us     202.50 Kb    -202.51 Kb             2  \n",
      "-------------------------------------------------------  ------------  ------------  ------------  ------------  ------------  ------------  ------------  ------------  \n",
      "Self CPU time total: 28.452s\n",
      "\n",
      "                                                    0\n",
      "0   <FunctionEventAvg key=ProfilerStep* self_cpu_t...\n",
      "1   <FunctionEventAvg key=enumerate(DataLoader)#_S...\n",
      "2   <FunctionEventAvg key=image::read_file self_cp...\n",
      "3   <FunctionEventAvg key=aten::from_file self_cpu...\n",
      "4   <FunctionEventAvg key=image::decode_image self...\n",
      "..                                                ...\n",
      "81  <FunctionEventAvg key=aten::lerp_ self_cpu_tim...\n",
      "82  <FunctionEventAvg key=aten::mul_ self_cpu_time...\n",
      "83  <FunctionEventAvg key=aten::addcmul_ self_cpu_...\n",
      "84  <FunctionEventAvg key=aten::sqrt self_cpu_time...\n",
      "85  <FunctionEventAvg key=aten::addcdiv_ self_cpu_...\n",
      "\n",
      "[86 rows x 1 columns]\n"
     ]
    },
    {
     "ename": "KeyboardInterrupt",
     "evalue": "",
     "output_type": "error",
     "traceback": [
      "\u001b[0;31m---------------------------------------------------------------------------\u001b[0m",
      "\u001b[0;31mRuntimeError\u001b[0m                              Traceback (most recent call last)",
      "File \u001b[0;32m~/.pyenv/versions/3.10.0/lib/python3.10/site-packages/torch/utils/data/dataloader.py:630\u001b[0m, in \u001b[0;36m_BaseDataLoaderIter.__next__\u001b[0;34m(self)\u001b[0m\n\u001b[1;32m    629\u001b[0m     \u001b[38;5;28mself\u001b[39m\u001b[38;5;241m.\u001b[39m_reset()  \u001b[38;5;66;03m# type: ignore[call-arg]\u001b[39;00m\n\u001b[0;32m--> 630\u001b[0m data \u001b[38;5;241m=\u001b[39m \u001b[38;5;28;43mself\u001b[39;49m\u001b[38;5;241;43m.\u001b[39;49m\u001b[43m_next_data\u001b[49m\u001b[43m(\u001b[49m\u001b[43m)\u001b[49m\n\u001b[1;32m    631\u001b[0m \u001b[38;5;28mself\u001b[39m\u001b[38;5;241m.\u001b[39m_num_yielded \u001b[38;5;241m+\u001b[39m\u001b[38;5;241m=\u001b[39m \u001b[38;5;241m1\u001b[39m\n",
      "File \u001b[0;32m~/.pyenv/versions/3.10.0/lib/python3.10/site-packages/torch/utils/data/dataloader.py:674\u001b[0m, in \u001b[0;36m_SingleProcessDataLoaderIter._next_data\u001b[0;34m(self)\u001b[0m\n\u001b[1;32m    673\u001b[0m index \u001b[38;5;241m=\u001b[39m \u001b[38;5;28mself\u001b[39m\u001b[38;5;241m.\u001b[39m_next_index()  \u001b[38;5;66;03m# may raise StopIteration\u001b[39;00m\n\u001b[0;32m--> 674\u001b[0m data \u001b[38;5;241m=\u001b[39m \u001b[38;5;28;43mself\u001b[39;49m\u001b[38;5;241;43m.\u001b[39;49m\u001b[43m_dataset_fetcher\u001b[49m\u001b[38;5;241;43m.\u001b[39;49m\u001b[43mfetch\u001b[49m\u001b[43m(\u001b[49m\u001b[43mindex\u001b[49m\u001b[43m)\u001b[49m  \u001b[38;5;66;03m# may raise StopIteration\u001b[39;00m\n\u001b[1;32m    675\u001b[0m \u001b[38;5;28;01mif\u001b[39;00m \u001b[38;5;28mself\u001b[39m\u001b[38;5;241m.\u001b[39m_pin_memory:\n",
      "File \u001b[0;32m~/.pyenv/versions/3.10.0/lib/python3.10/site-packages/torch/utils/data/_utils/fetch.py:49\u001b[0m, in \u001b[0;36m_MapDatasetFetcher.fetch\u001b[0;34m(self, possibly_batched_index)\u001b[0m\n\u001b[1;32m     48\u001b[0m \u001b[38;5;28;01mif\u001b[39;00m \u001b[38;5;28mhasattr\u001b[39m(\u001b[38;5;28mself\u001b[39m\u001b[38;5;241m.\u001b[39mdataset, \u001b[38;5;124m\"\u001b[39m\u001b[38;5;124m__getitems__\u001b[39m\u001b[38;5;124m\"\u001b[39m) \u001b[38;5;129;01mand\u001b[39;00m \u001b[38;5;28mself\u001b[39m\u001b[38;5;241m.\u001b[39mdataset\u001b[38;5;241m.\u001b[39m__getitems__:\n\u001b[0;32m---> 49\u001b[0m     data \u001b[38;5;241m=\u001b[39m \u001b[38;5;28;43mself\u001b[39;49m\u001b[38;5;241;43m.\u001b[39;49m\u001b[43mdataset\u001b[49m\u001b[38;5;241;43m.\u001b[39;49m\u001b[43m__getitems__\u001b[49m\u001b[43m(\u001b[49m\u001b[43mpossibly_batched_index\u001b[49m\u001b[43m)\u001b[49m\n\u001b[1;32m     50\u001b[0m \u001b[38;5;28;01melse\u001b[39;00m:\n",
      "File \u001b[0;32m~/.pyenv/versions/3.10.0/lib/python3.10/site-packages/torch/utils/data/dataset.py:364\u001b[0m, in \u001b[0;36mSubset.__getitems__\u001b[0;34m(self, indices)\u001b[0m\n\u001b[1;32m    363\u001b[0m \u001b[38;5;28;01melse\u001b[39;00m:\n\u001b[0;32m--> 364\u001b[0m     \u001b[38;5;28;01mreturn\u001b[39;00m [\u001b[38;5;28mself\u001b[39m\u001b[38;5;241m.\u001b[39mdataset[\u001b[38;5;28mself\u001b[39m\u001b[38;5;241m.\u001b[39mindices[idx]] \u001b[38;5;28;01mfor\u001b[39;00m idx \u001b[38;5;129;01min\u001b[39;00m indices]\n",
      "File \u001b[0;32m~/.pyenv/versions/3.10.0/lib/python3.10/site-packages/torch/utils/data/dataset.py:364\u001b[0m, in \u001b[0;36m<listcomp>\u001b[0;34m(.0)\u001b[0m\n\u001b[1;32m    363\u001b[0m \u001b[38;5;28;01melse\u001b[39;00m:\n\u001b[0;32m--> 364\u001b[0m     \u001b[38;5;28;01mreturn\u001b[39;00m [\u001b[38;5;28;43mself\u001b[39;49m\u001b[38;5;241;43m.\u001b[39;49m\u001b[43mdataset\u001b[49m\u001b[43m[\u001b[49m\u001b[38;5;28;43mself\u001b[39;49m\u001b[38;5;241;43m.\u001b[39;49m\u001b[43mindices\u001b[49m\u001b[43m[\u001b[49m\u001b[43midx\u001b[49m\u001b[43m]\u001b[49m\u001b[43m]\u001b[49m \u001b[38;5;28;01mfor\u001b[39;00m idx \u001b[38;5;129;01min\u001b[39;00m indices]\n",
      "Cell \u001b[0;32mIn[5], line 26\u001b[0m, in \u001b[0;36mYtVidsDataset.__getitem__\u001b[0;34m(self, idx)\u001b[0m\n\u001b[1;32m     25\u001b[0m \u001b[38;5;66;03m# Load in as a 2d image (no channels)\u001b[39;00m\n\u001b[0;32m---> 26\u001b[0m image \u001b[38;5;241m=\u001b[39m \u001b[43mread_image\u001b[49m\u001b[43m(\u001b[49m\u001b[43mimg_path\u001b[49m\u001b[43m,\u001b[49m\u001b[43m \u001b[49m\u001b[43mmode\u001b[49m\u001b[38;5;241;43m=\u001b[39;49m\u001b[43mImageReadMode\u001b[49m\u001b[38;5;241;43m.\u001b[39;49m\u001b[43mGRAY\u001b[49m\u001b[43m)\u001b[49m[\u001b[38;5;241m0\u001b[39m, :, :]\u001b[38;5;241m.\u001b[39mto(torch\u001b[38;5;241m.\u001b[39mfloat32)\n\u001b[1;32m     27\u001b[0m \u001b[38;5;66;03m# Normalize w.r.t. unit Frobenius norm\u001b[39;00m\n",
      "File \u001b[0;32m~/.pyenv/versions/3.10.0/lib/python3.10/site-packages/torchvision/io/image.py:258\u001b[0m, in \u001b[0;36mread_image\u001b[0;34m(path, mode)\u001b[0m\n\u001b[1;32m    257\u001b[0m     _log_api_usage_once(read_image)\n\u001b[0;32m--> 258\u001b[0m data \u001b[38;5;241m=\u001b[39m \u001b[43mread_file\u001b[49m\u001b[43m(\u001b[49m\u001b[43mpath\u001b[49m\u001b[43m)\u001b[49m\n\u001b[1;32m    259\u001b[0m \u001b[38;5;28;01mreturn\u001b[39;00m decode_image(data, mode)\n",
      "File \u001b[0;32m~/.pyenv/versions/3.10.0/lib/python3.10/site-packages/torchvision/io/image.py:52\u001b[0m, in \u001b[0;36mread_file\u001b[0;34m(path)\u001b[0m\n\u001b[1;32m     51\u001b[0m     _log_api_usage_once(read_file)\n\u001b[0;32m---> 52\u001b[0m data \u001b[38;5;241m=\u001b[39m \u001b[43mtorch\u001b[49m\u001b[38;5;241;43m.\u001b[39;49m\u001b[43mops\u001b[49m\u001b[38;5;241;43m.\u001b[39;49m\u001b[43mimage\u001b[49m\u001b[38;5;241;43m.\u001b[39;49m\u001b[43mread_file\u001b[49m\u001b[43m(\u001b[49m\u001b[43mpath\u001b[49m\u001b[43m)\u001b[49m\n\u001b[1;32m     53\u001b[0m \u001b[38;5;28;01mreturn\u001b[39;00m data\n",
      "File \u001b[0;32m~/.pyenv/versions/3.10.0/lib/python3.10/site-packages/torch/_ops.py:692\u001b[0m, in \u001b[0;36mOpOverloadPacket.__call__\u001b[0;34m(self, *args, **kwargs)\u001b[0m\n\u001b[1;32m    687\u001b[0m \u001b[38;5;28;01mdef\u001b[39;00m \u001b[38;5;21m__call__\u001b[39m(\u001b[38;5;28mself\u001b[39m, \u001b[38;5;241m*\u001b[39margs, \u001b[38;5;241m*\u001b[39m\u001b[38;5;241m*\u001b[39mkwargs):\n\u001b[1;32m    688\u001b[0m     \u001b[38;5;66;03m# overloading __call__ to ensure torch.ops.foo.bar()\u001b[39;00m\n\u001b[1;32m    689\u001b[0m     \u001b[38;5;66;03m# is still callable from JIT\u001b[39;00m\n\u001b[1;32m    690\u001b[0m     \u001b[38;5;66;03m# We save the function ptr as the `op` attribute on\u001b[39;00m\n\u001b[1;32m    691\u001b[0m     \u001b[38;5;66;03m# OpOverloadPacket to access it here.\u001b[39;00m\n\u001b[0;32m--> 692\u001b[0m     \u001b[38;5;28;01mreturn\u001b[39;00m \u001b[38;5;28;43mself\u001b[39;49m\u001b[38;5;241;43m.\u001b[39;49m\u001b[43m_op\u001b[49m\u001b[43m(\u001b[49m\u001b[38;5;241;43m*\u001b[39;49m\u001b[43margs\u001b[49m\u001b[43m,\u001b[49m\u001b[43m \u001b[49m\u001b[38;5;241;43m*\u001b[39;49m\u001b[38;5;241;43m*\u001b[39;49m\u001b[43mkwargs\u001b[49m\u001b[43m \u001b[49m\u001b[38;5;129;43;01mor\u001b[39;49;00m\u001b[43m \u001b[49m\u001b[43m{\u001b[49m\u001b[43m}\u001b[49m\u001b[43m)\u001b[49m\n",
      "\u001b[0;31mRuntimeError\u001b[0m: unable to mmap 3201 bytes from file <../test_imgs0/imageA_1129.jpg>: Interrupted system call (4)",
      "\nDuring handling of the above exception, another exception occurred:\n",
      "\u001b[0;31mKeyboardInterrupt\u001b[0m                         Traceback (most recent call last)",
      "Cell \u001b[0;32mIn[33], line 24\u001b[0m\n\u001b[1;32m     12\u001b[0m \u001b[38;5;28;01mwith\u001b[39;00m profiler\u001b[38;5;241m.\u001b[39mprofile(activities\u001b[38;5;241m=\u001b[39m[profiler\u001b[38;5;241m.\u001b[39mProfilerActivity\u001b[38;5;241m.\u001b[39mCPU, profiler\u001b[38;5;241m.\u001b[39mProfilerActivity\u001b[38;5;241m.\u001b[39mCUDA] \u001b[38;5;28;01mif\u001b[39;00m use_cuda \u001b[38;5;28;01melse\u001b[39;00m [profiler\u001b[38;5;241m.\u001b[39mProfilerActivity\u001b[38;5;241m.\u001b[39mCPU],\n\u001b[1;32m     13\u001b[0m                          record_shapes\u001b[38;5;241m=\u001b[39m\u001b[38;5;28;01mFalse\u001b[39;00m, \n\u001b[1;32m     14\u001b[0m                          profile_memory\u001b[38;5;241m=\u001b[39m\u001b[38;5;28;01mTrue\u001b[39;00m, \n\u001b[0;32m   (...)\u001b[0m\n\u001b[1;32m     21\u001b[0m                          on_trace_ready\u001b[38;5;241m=\u001b[39mtrace_handler\n\u001b[1;32m     22\u001b[0m                          ) \u001b[38;5;28;01mas\u001b[39;00m prof:\n\u001b[1;32m     23\u001b[0m         \u001b[38;5;28;01mwith\u001b[39;00m profiler\u001b[38;5;241m.\u001b[39mrecord_function(\u001b[38;5;124m\"\u001b[39m\u001b[38;5;124mtrain_model\u001b[39m\u001b[38;5;124m\"\u001b[39m):\n\u001b[0;32m---> 24\u001b[0m             \u001b[43mtrain_model\u001b[49m\u001b[43m(\u001b[49m\u001b[38;5;241;43m3\u001b[39;49m\u001b[43m,\u001b[49m\u001b[43m \u001b[49m\u001b[43mmodel\u001b[49m\u001b[43m,\u001b[49m\u001b[43m \u001b[49m\u001b[43moptimizer\u001b[49m\u001b[43m,\u001b[49m\u001b[43m \u001b[49m\u001b[43mcheckpoint_at\u001b[49m\u001b[38;5;241;43m=\u001b[39;49m\u001b[38;5;241;43m3\u001b[39;49m\u001b[43m,\u001b[49m\u001b[43m \u001b[49m\u001b[43mwriter\u001b[49m\u001b[38;5;241;43m=\u001b[39;49m\u001b[43mwriter\u001b[49m\u001b[43m,\u001b[49m\u001b[43m \u001b[49m\u001b[43mload\u001b[49m\u001b[38;5;241;43m=\u001b[39;49m\u001b[38;5;28;43;01mTrue\u001b[39;49;00m\u001b[43m,\u001b[49m\u001b[43m \u001b[49m\u001b[43mprofiler\u001b[49m\u001b[38;5;241;43m=\u001b[39;49m\u001b[43mprof\u001b[49m\u001b[43m)\u001b[49m\n",
      "Cell \u001b[0;32mIn[32], line 42\u001b[0m, in \u001b[0;36mtrain_model\u001b[0;34m(epochs, model, optimizer, checkpoint_at, load, batch_pr, writer, profiler)\u001b[0m\n\u001b[1;32m     39\u001b[0m model\u001b[38;5;241m.\u001b[39mtrain()\n\u001b[1;32m     40\u001b[0m running_loss \u001b[38;5;241m=\u001b[39m \u001b[38;5;241m0.0\u001b[39m\n\u001b[0;32m---> 42\u001b[0m \u001b[38;5;28;01mfor\u001b[39;00m i, data \u001b[38;5;129;01min\u001b[39;00m \u001b[38;5;28menumerate\u001b[39m(train_dataloader, \u001b[38;5;241m0\u001b[39m):\n\u001b[1;32m     43\u001b[0m     data \u001b[38;5;241m=\u001b[39m data\u001b[38;5;241m.\u001b[39mto(device)\n\u001b[1;32m     45\u001b[0m     \u001b[38;5;66;03m# Write out a view of the NN graph, just once\u001b[39;00m\n",
      "File \u001b[0;32m~/.pyenv/versions/3.10.0/lib/python3.10/site-packages/torch/utils/data/dataloader.py:630\u001b[0m, in \u001b[0;36m_BaseDataLoaderIter.__next__\u001b[0;34m(self)\u001b[0m\n\u001b[1;32m    627\u001b[0m \u001b[38;5;28;01mif\u001b[39;00m \u001b[38;5;28mself\u001b[39m\u001b[38;5;241m.\u001b[39m_sampler_iter \u001b[38;5;129;01mis\u001b[39;00m \u001b[38;5;28;01mNone\u001b[39;00m:\n\u001b[1;32m    628\u001b[0m     \u001b[38;5;66;03m# TODO(https://github.com/pytorch/pytorch/issues/76750)\u001b[39;00m\n\u001b[1;32m    629\u001b[0m     \u001b[38;5;28mself\u001b[39m\u001b[38;5;241m.\u001b[39m_reset()  \u001b[38;5;66;03m# type: ignore[call-arg]\u001b[39;00m\n\u001b[0;32m--> 630\u001b[0m data \u001b[38;5;241m=\u001b[39m \u001b[38;5;28;43mself\u001b[39;49m\u001b[38;5;241;43m.\u001b[39;49m\u001b[43m_next_data\u001b[49m\u001b[43m(\u001b[49m\u001b[43m)\u001b[49m\n\u001b[1;32m    631\u001b[0m \u001b[38;5;28mself\u001b[39m\u001b[38;5;241m.\u001b[39m_num_yielded \u001b[38;5;241m+\u001b[39m\u001b[38;5;241m=\u001b[39m \u001b[38;5;241m1\u001b[39m\n\u001b[1;32m    632\u001b[0m \u001b[38;5;28;01mif\u001b[39;00m \u001b[38;5;28mself\u001b[39m\u001b[38;5;241m.\u001b[39m_dataset_kind \u001b[38;5;241m==\u001b[39m _DatasetKind\u001b[38;5;241m.\u001b[39mIterable \u001b[38;5;129;01mand\u001b[39;00m \\\n\u001b[1;32m    633\u001b[0m         \u001b[38;5;28mself\u001b[39m\u001b[38;5;241m.\u001b[39m_IterableDataset_len_called \u001b[38;5;129;01mis\u001b[39;00m \u001b[38;5;129;01mnot\u001b[39;00m \u001b[38;5;28;01mNone\u001b[39;00m \u001b[38;5;129;01mand\u001b[39;00m \\\n\u001b[1;32m    634\u001b[0m         \u001b[38;5;28mself\u001b[39m\u001b[38;5;241m.\u001b[39m_num_yielded \u001b[38;5;241m>\u001b[39m \u001b[38;5;28mself\u001b[39m\u001b[38;5;241m.\u001b[39m_IterableDataset_len_called:\n",
      "\u001b[0;31mKeyboardInterrupt\u001b[0m: "
     ]
    }
   ],
   "source": [
    "model = model_fork\n",
    "\n",
    "#### TODO: Include optimizer as part of model? #####\n",
    "\n",
    "writer = SummaryWriter(os.path.join(output_dir, \"runs\", f'{machine}_{model.get_name()}_fixed_6'))\n",
    "\n",
    "# Optimizer\n",
    "optimizer = torch.optim.Adam(model.parameters(), lr=0.001)\n",
    "# optimizer = torch.optim.SGD(model.parameters(), lr=0.01, momentum=0.9)\n",
    "\n",
    "\n",
    "with profiler.profile(activities=[profiler.ProfilerActivity.CPU, profiler.ProfilerActivity.CUDA] if use_cuda else [profiler.ProfilerActivity.CPU],\n",
    "                         record_shapes=False, \n",
    "                         profile_memory=True, \n",
    "                         # use_cuda=use_cuda,\n",
    "                         schedule=torch.profiler.schedule(\n",
    "                            wait=5,\n",
    "                            warmup=1,\n",
    "                            active=2,\n",
    "                            repeat=1),\n",
    "                         on_trace_ready=trace_handler\n",
    "                         ) as prof:\n",
    "        with profiler.record_function(\"train_model\"):\n",
    "            train_model(3, model, optimizer, checkpoint_at=3, writer=writer, load=True, profiler=prof)\n",
    "\n"
   ]
  },
  {
   "cell_type": "code",
   "execution_count": 39,
   "id": "f7106ac4-6e66-4dce-9f86-234a5b9a2c9d",
   "metadata": {},
   "outputs": [
    {
     "name": "stdout",
     "output_type": "stream",
     "text": [
      "Found model state dict to load. Using: Macbook_Fork_state-dict_2023-11-09_145244.pt\n"
     ]
    },
    {
     "name": "stderr",
     "output_type": "stream",
     "text": [
      "STAGE:2023-11-15 13:47:49 61442:11671887 ActivityProfilerController.cpp:312] Completed Stage: Warm Up\n",
      "STAGE:2023-11-15 13:48:00 61442:11671887 ActivityProfilerController.cpp:318] Completed Stage: Collection\n",
      "STAGE:2023-11-15 13:48:00 61442:11671887 ActivityProfilerController.cpp:322] Completed Stage: Post Processing\n"
     ]
    },
    {
     "ename": "RuntimeError",
     "evalue": "Profiler didn't finish running",
     "output_type": "error",
     "traceback": [
      "\u001b[0;31m---------------------------------------------------------------------------\u001b[0m",
      "\u001b[0;31mRuntimeError\u001b[0m                              Traceback (most recent call last)",
      "Cell \u001b[0;32mIn[39], line 17\u001b[0m\n\u001b[1;32m     15\u001b[0m     U, V \u001b[38;5;241m=\u001b[39m model(\u001b[38;5;28mnext\u001b[39m(\u001b[38;5;28miter\u001b[39m(validation_dataloader)))\n\u001b[1;32m     16\u001b[0m     prof\u001b[38;5;241m.\u001b[39mstep()\n\u001b[0;32m---> 17\u001b[0m     prof_events \u001b[38;5;241m=\u001b[39m \u001b[43mprof\u001b[49m\u001b[38;5;241;43m.\u001b[39;49m\u001b[43mkey_averages\u001b[49m\u001b[43m(\u001b[49m\u001b[43m)\u001b[49m\n\u001b[1;32m     19\u001b[0m prof_events\n",
      "File \u001b[0;32m~/.pyenv/versions/3.10.0/lib/python3.10/site-packages/torch/profiler/profiler.py:207\u001b[0m, in \u001b[0;36m_KinetoProfile.key_averages\u001b[0;34m(self, group_by_input_shape, group_by_stack_n)\u001b[0m\n\u001b[1;32m    199\u001b[0m \u001b[38;5;250m\u001b[39m\u001b[38;5;124;03m\"\"\"Averages events, grouping them by operator name and (optionally) input shapes and\u001b[39;00m\n\u001b[1;32m    200\u001b[0m \u001b[38;5;124;03mstack.\u001b[39;00m\n\u001b[1;32m    201\u001b[0m \n\u001b[0;32m   (...)\u001b[0m\n\u001b[1;32m    204\u001b[0m \u001b[38;5;124;03m    when creating profiler context manager.\u001b[39;00m\n\u001b[1;32m    205\u001b[0m \u001b[38;5;124;03m\"\"\"\u001b[39;00m\n\u001b[1;32m    206\u001b[0m \u001b[38;5;28;01massert\u001b[39;00m \u001b[38;5;28mself\u001b[39m\u001b[38;5;241m.\u001b[39mprofiler\n\u001b[0;32m--> 207\u001b[0m \u001b[38;5;28;01mreturn\u001b[39;00m \u001b[38;5;28;43mself\u001b[39;49m\u001b[38;5;241;43m.\u001b[39;49m\u001b[43mprofiler\u001b[49m\u001b[38;5;241;43m.\u001b[39;49m\u001b[43mkey_averages\u001b[49m\u001b[43m(\u001b[49m\u001b[43mgroup_by_input_shape\u001b[49m\u001b[43m,\u001b[49m\u001b[43m \u001b[49m\u001b[43mgroup_by_stack_n\u001b[49m\u001b[43m)\u001b[49m\n",
      "File \u001b[0;32m~/.pyenv/versions/3.10.0/lib/python3.10/site-packages/torch/autograd/profiler.py:390\u001b[0m, in \u001b[0;36mprofile.key_averages\u001b[0;34m(self, group_by_input_shape, group_by_stack_n)\u001b[0m\n\u001b[1;32m    389\u001b[0m \u001b[38;5;28;01mdef\u001b[39;00m \u001b[38;5;21mkey_averages\u001b[39m(\u001b[38;5;28mself\u001b[39m, group_by_input_shape\u001b[38;5;241m=\u001b[39m\u001b[38;5;28;01mFalse\u001b[39;00m, group_by_stack_n\u001b[38;5;241m=\u001b[39m\u001b[38;5;241m0\u001b[39m):\n\u001b[0;32m--> 390\u001b[0m     \u001b[38;5;28;43mself\u001b[39;49m\u001b[38;5;241;43m.\u001b[39;49m\u001b[43m_check_finish\u001b[49m\u001b[43m(\u001b[49m\u001b[43m)\u001b[49m\n\u001b[1;32m    391\u001b[0m     \u001b[38;5;28;01massert\u001b[39;00m \u001b[38;5;28mself\u001b[39m\u001b[38;5;241m.\u001b[39mfunction_events \u001b[38;5;129;01mis\u001b[39;00m \u001b[38;5;129;01mnot\u001b[39;00m \u001b[38;5;28;01mNone\u001b[39;00m, \u001b[38;5;124m\"\u001b[39m\u001b[38;5;124mExpected profiling results\u001b[39m\u001b[38;5;124m\"\u001b[39m\n\u001b[1;32m    392\u001b[0m     \u001b[38;5;28;01mreturn\u001b[39;00m \u001b[38;5;28mself\u001b[39m\u001b[38;5;241m.\u001b[39mfunction_events\u001b[38;5;241m.\u001b[39mkey_averages(group_by_input_shape, group_by_stack_n)\n",
      "File \u001b[0;32m~/.pyenv/versions/3.10.0/lib/python3.10/site-packages/torch/autograd/profiler.py:348\u001b[0m, in \u001b[0;36mprofile._check_finish\u001b[0;34m(self)\u001b[0m\n\u001b[1;32m    346\u001b[0m \u001b[38;5;28;01mdef\u001b[39;00m \u001b[38;5;21m_check_finish\u001b[39m(\u001b[38;5;28mself\u001b[39m):\n\u001b[1;32m    347\u001b[0m     \u001b[38;5;28;01mif\u001b[39;00m \u001b[38;5;28mself\u001b[39m\u001b[38;5;241m.\u001b[39mfunction_events \u001b[38;5;129;01mis\u001b[39;00m \u001b[38;5;28;01mNone\u001b[39;00m:\n\u001b[0;32m--> 348\u001b[0m         \u001b[38;5;28;01mraise\u001b[39;00m \u001b[38;5;167;01mRuntimeError\u001b[39;00m(\u001b[38;5;124m\"\u001b[39m\u001b[38;5;124mProfiler didn\u001b[39m\u001b[38;5;124m'\u001b[39m\u001b[38;5;124mt finish running\u001b[39m\u001b[38;5;124m\"\u001b[39m)\n",
      "\u001b[0;31mRuntimeError\u001b[0m: Profiler didn't finish running"
     ]
    }
   ],
   "source": [
    "# list(model_neg.parameters())\n",
    "# optimizer.__class__.__name__\n",
    "_, statedict = load_checkpoint(model.get_name(), machine, checkpoint_str=\"\")\n",
    "model.load_state_dict(statedict)\n",
    "prof_events = None\n",
    "\n",
    "def save_prof(prof):\n",
    "    prof_events = prof.key_averages()\n",
    "\n",
    "with profiler.profile(activities=[profiler.ProfilerActivity.CPU, profiler.ProfilerActivity.CUDA] if use_cuda else [profiler.ProfilerActivity.CPU],\n",
    "                         record_shapes=False, \n",
    "                         profile_memory=True,\n",
    "                      on_trace_ready=save_prof\n",
    "                         ) as prof:\n",
    "    U, V = model(next(iter(validation_dataloader)))\n",
    "    prof.step()\n",
    "    prof_events = prof.key_averages()\n",
    "\n",
    "prof_events\n"
   ]
  },
  {
   "cell_type": "code",
   "execution_count": 38,
   "id": "76d7b26b-e137-4831-a708-7f479fc62a33",
   "metadata": {},
   "outputs": [],
   "source": [
    "prof_events"
   ]
  },
  {
   "cell_type": "code",
   "execution_count": null,
   "id": "fb781738-f53a-4990-9a50-d4c5bff5b017",
   "metadata": {},
   "outputs": [],
   "source": [
    "f= {\"F\": 2, \"G\": 4, \"d\": 6}\n",
    "for k in f:\n",
    "    print(k)\n",
    "\n",
    "print(int(\"5\"))"
   ]
  },
  {
   "cell_type": "markdown",
   "id": "3ad2c681-0156-487e-916c-fa38f509e40f",
   "metadata": {},
   "source": [
    "## Comparision against base\n",
    "\n",
    "Compare against some python implementation of SVD that produces U: m x r V: r x n matrices\n",
    "\n",
    "<img src=\"images/rank_vs_err.png\" alt=\"Rank vs Error Plot\" style=\"width: 600px;\"/>"
   ]
  },
  {
   "cell_type": "code",
   "execution_count": 39,
   "id": "652e1d39-0482-477d-8477-de55cac5e786",
   "metadata": {},
   "outputs": [
    {
     "data": {
      "text/plain": [
       "array([1, 3, 4])"
      ]
     },
     "execution_count": 39,
     "metadata": {},
     "output_type": "execute_result"
    }
   ],
   "source": [
    "g = [1, 3, 4]\n",
    "np.array(g)"
   ]
  },
  {
   "cell_type": "code",
   "execution_count": 46,
   "id": "251c35fe-fae7-4099-a20b-4218ea73c976",
   "metadata": {},
   "outputs": [
    {
     "name": "stdout",
     "output_type": "stream",
     "text": [
      "SimpleNN:\n",
      " Loss = [0.03239412 0.03203864 0.02472004 0.09032425 0.03167123] Loss (avg) = 0.056839436 Time = 0.0016245369333773851\n",
      "Scipy SVD:\n",
      " Loss = [0.005634364, 0.0009906843, 0.0012530811, 0.01721967, 0.0011175725] Loss (avg) = 0.0067723957 Time = 0.004388045985251665\n"
     ]
    }
   ],
   "source": [
    "\n",
    "model = model_fork\n",
    "rank = 6\n",
    "# For tensorboard, to set what \"global step\" the histograms occured at\n",
    "step = 3\n",
    "losses_nn = []\n",
    "losses_svd = []\n",
    "\n",
    "# imgs = next(iter(validation_dataloader))\n",
    "\n",
    "for imgs in validation_dataloader:\n",
    "\n",
    "    # Run and time the NN\n",
    "    start_nn = default_timer()\n",
    "    model.eval()\n",
    "    U_nn, V_nn = model(imgs)\n",
    "    U_nn = U_nn.detach().numpy()\n",
    "    V_nn = V_nn.detach().numpy()\n",
    "    UV_nn = np.maximum(np.matmul(U_nn, V_nn), 0)\n",
    "    end_nn = default_timer() - start_nn\n",
    "    \n",
    "    # Run and time standard SVD, truncating to rank\n",
    "    svds = []\n",
    "    start_svd = default_timer()\n",
    "    for i in range(batch_size):\n",
    "        U_svd, S, V_svd = svd(imgs[i, :, :])\n",
    "        S = S[:rank]\n",
    "        U_svd = U_svd[:, :rank]\n",
    "        V_svd = V_svd[:rank, :]\n",
    "        svds.append(U_svd.dot(diagsvd(S, rank, rank)).dot(V_svd))\n",
    "    end_svd = default_timer() - start_svd\n",
    "    \n",
    "    # Calculate loss\n",
    "    loss_nn = np.square(np.linalg.norm(imgs - UV_nn, axis=(1, 2), ord=\"fro\"))\n",
    "    loss_svd = [np.square(np.linalg.norm(imgs[i, :, :] - svds[i], ord=\"fro\")) for i in range(batch_size)]\n",
    "    losses_nn.append(np.mean(loss_nn))\n",
    "    losses_svd.append(np.mean(loss_svd))\n",
    "\n",
    "writer.add_histogram(\"Model avg loss\", np.array(losses_nn), step)\n",
    "writer.add_histogram(\"SVD avg loss\", np.array(losses_svd), step)\n",
    "\n",
    "print(\"SimpleNN:\\n\", \"Loss =\", loss_nn, \"Loss (avg) =\", np.mean(losses_nn), \"Time =\", end_nn)\n",
    "print(\"Scipy SVD:\\n\", \"Loss =\", loss_svd, \"Loss (avg) =\", np.mean(losses_svd), \"Time =\", end_svd)\n"
   ]
  },
  {
   "cell_type": "code",
   "execution_count": 17,
   "id": "c660ae80-8521-4adb-8555-e0634ef57f8d",
   "metadata": {},
   "outputs": [
    {
     "data": {
      "text/plain": [
       "[<matplotlib.lines.Line2D at 0x142cb51e0>]"
      ]
     },
     "execution_count": 17,
     "metadata": {},
     "output_type": "execute_result"
    },
    {
     "data": {
      "image/png": "[encoded data removed]",
      "text/plain": [
       "<Figure size 640x480 with 1 Axes>"
      ]
     },
     "metadata": {},
     "output_type": "display_data"
    }
   ],
   "source": [
    "U_svd, S, V_svd = svd(imgs[i, :, :])\n",
    "# plt.semilogy(S)\n",
    "plt.semilogy(np.sqrt(np.linalg.norm(S)**2 - np.cumsum(S**2)) / np.linalg.norm(S))"
   ]
  },
  {
   "cell_type": "markdown",
   "id": "93b4b44f-e13c-4e04-a7a7-c25afd9bef5d",
   "metadata": {},
   "source": [
    "# Visualization"
   ]
  },
  {
   "cell_type": "code",
   "execution_count": 2,
   "id": "9e74a448-6846-44cc-bdf8-f3964cdd7a02",
   "metadata": {
    "scrolled": true
   },
   "outputs": [
    {
     "data": {
      "text/html": [
       "\n",
       "      <iframe id=\"tensorboard-frame-ad04aa25a33428de\" width=\"100%\" height=\"800\" frameborder=\"0\">\n",
       "      </iframe>\n",
       "      <script>\n",
       "        (function() {\n",
       "          const frame = document.getElementById(\"tensorboard-frame-ad04aa25a33428de\");\n",
       "          const url = new URL(\"/\", window.location);\n",
       "          const port = 6007;\n",
       "          if (port) {\n",
       "            url.port = port;\n",
       "          }\n",
       "          frame.src = url;\n",
       "        })();\n",
       "      </script>\n",
       "    "
      ],
      "text/plain": [
       "<IPython.core.display.HTML object>"
      ]
     },
     "metadata": {},
     "output_type": "display_data"
    }
   ],
   "source": [
    "%tensorboard --logdir \"../data/output/runs\""
   ]
  },
  {
   "cell_type": "markdown",
   "id": "c199b44d-598a-4a3f-be32-9e82ed3d3e55",
   "metadata": {},
   "source": [
    "# References\n",
    "\n",
    "1. <a id='r1'></a> De Handschutter, P., Gillis, N., & Siebert, X. (2021). A survey on deep matrix factorizations. Computer Science Review, 42, 100423. https://doi.org/10.1016/j.cosrev.2021.100423\n",
    "2. <a id='r2'></a> Sun, J., Kong, Q., & Xu, Z. (2022). Deep alternating non-negative matrix factorisation. Knowledge-Based Systems, 251, 109210. https://doi.org/10.1016/j.knosys.2022.109210\n",
    "\n",
    "\n"
   ]
  },
  {
   "cell_type": "code",
   "execution_count": null,
   "id": "64465e29-7aa1-4973-8eea-11ada04d614e",
   "metadata": {},
   "outputs": [],
   "source": []
  }
 ],
 "metadata": {
  "kernelspec": {
   "display_name": "Python 3 (ipykernel)",
   "language": "python",
   "name": "python3"
  },
  "language_info": {
   "codemirror_mode": {
    "name": "ipython",
    "version": 3
   },
   "file_extension": ".py",
   "mimetype": "text/x-python",
   "name": "python",
   "nbconvert_exporter": "python",
   "pygments_lexer": "ipython3",
   "version": "3.10.11"
  }
 },
 "nbformat": 4,
 "nbformat_minor": 5
}
